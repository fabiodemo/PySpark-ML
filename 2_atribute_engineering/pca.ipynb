{
 "cells": [
  {
   "cell_type": "markdown",
   "metadata": {},
   "source": [
    "# PCA"
   ]
  },
  {
   "cell_type": "markdown",
   "metadata": {},
   "source": [
    "Principal Component Analysis (PCA) is a dimensionality reduction technique used in machine learning and data analysis. It is commonly used to transform a high-dimensional dataset into a lower-dimensional representation while preserving the most important information.\n",
    "\n",
    "PCA works by finding the directions (principal components) in the data that explain the maximum variance. These principal components are orthogonal to each other, meaning they are uncorrelated. The first principal component captures the most variance in the data, followed by the second principal component, and so on.\n",
    "\n",
    "Applications of PCA include:\n",
    "\n",
    "- Dimensionality reduction: PCA can be used to reduce the number of features in a dataset, making it easier to visualize and analyze. It can help in dealing with the curse of dimensionality and improve the performance of machine learning models.\n",
    "\n",
    "- Data visualization: PCA can be used to visualize high-dimensional data in a lower-dimensional space. By projecting the data onto the principal components, we can create scatter plots or other visualizations that capture the most important patterns in the data.\n",
    "\n",
    "- Noise reduction: PCA can be used to remove noise from data by eliminating the principal components with low variance. This can be useful in denoising signals or images.\n",
    "\n",
    "- Feature extraction: PCA can be used to extract the most important features from a dataset. By selecting a subset of the principal components, we can create a new feature representation that captures the essential information in the data.\n",
    "\n",
    "- Anomaly detection: PCA can be used to detect anomalies in data by comparing the reconstruction error of a data point with the original data. Points with high reconstruction error are likely to be outliers or anomalies."
   ]
  },
  {
   "cell_type": "code",
   "execution_count": 1,
   "metadata": {},
   "outputs": [
    {
     "name": "stderr",
     "output_type": "stream",
     "text": [
      "24/03/27 22:52:28 WARN Utils: Your hostname, pop-os resolves to a loopback address: 127.0.1.1; using 192.168.0.108 instead (on interface wlo1)\n",
      "24/03/27 22:52:28 WARN Utils: Set SPARK_LOCAL_IP if you need to bind to another address\n",
      "Setting default log level to \"WARN\".\n",
      "To adjust logging level use sc.setLogLevel(newLevel). For SparkR, use setLogLevel(newLevel).\n",
      "24/03/27 22:52:28 WARN NativeCodeLoader: Unable to load native-hadoop library for your platform... using builtin-java classes where applicable\n"
     ]
    }
   ],
   "source": [
    "import findspark, pyspark\n",
    "from pyspark.sql import SparkSession\n",
    "findspark.init()\n",
    "spark = SparkSession.builder.appName(\"pca\").getOrCreate()"
   ]
  },
  {
   "cell_type": "code",
   "execution_count": 4,
   "metadata": {},
   "outputs": [],
   "source": [
    "from pyspark.ml.feature import VectorAssembler, PCA"
   ]
  },
  {
   "cell_type": "code",
   "execution_count": 3,
   "metadata": {},
   "outputs": [
    {
     "name": "stdout",
     "output_type": "stream",
     "text": [
      "+-----------------------------------------------------+\n",
      "|characteristics                                      |\n",
      "+-----------------------------------------------------+\n",
      "|[21.0,6.0,160.0,39.0,262.0,1646.0,0.0,1.0,4.0,4.0]   |\n",
      "|[21.0,6.0,160.0,39.0,2875.0,1702.0,0.0,1.0,4.0,4.0]  |\n",
      "|[228.0,4.0,108.0,385.0,232.0,1861.0,1.0,1.0,4.0,1.0] |\n",
      "|[214.0,6.0,258.0,308.0,3215.0,1944.0,1.0,0.0,3.0,1.0]|\n",
      "|[187.0,8.0,360.0,315.0,344.0,1702.0,0.0,0.0,3.0,2.0] |\n",
      "|[181.0,6.0,225.0,276.0,346.0,2022.0,1.0,0.0,3.0,1.0] |\n",
      "|[143.0,8.0,360.0,321.0,357.0,1584.0,0.0,0.0,3.0,4.0] |\n",
      "|[244.0,4.0,1467.0,369.0,319.0,20.0,1.0,0.0,4.0,2.0]  |\n",
      "|[228.0,4.0,1408.0,392.0,315.0,229.0,1.0,0.0,4.0,2.0] |\n",
      "|[192.0,6.0,1676.0,392.0,344.0,183.0,1.0,0.0,4.0,4.0] |\n",
      "|[178.0,6.0,1676.0,392.0,344.0,189.0,1.0,0.0,4.0,4.0] |\n",
      "|[164.0,8.0,2758.0,307.0,407.0,174.0,0.0,0.0,3.0,3.0] |\n",
      "|[173.0,8.0,2758.0,307.0,373.0,176.0,0.0,0.0,3.0,3.0] |\n",
      "|[152.0,8.0,2758.0,307.0,378.0,18.0,0.0,0.0,3.0,3.0]  |\n",
      "|[104.0,8.0,472.0,293.0,525.0,1798.0,0.0,0.0,3.0,4.0] |\n",
      "|[104.0,8.0,460.0,3.0,5424.0,1782.0,0.0,0.0,3.0,4.0]  |\n",
      "|[147.0,8.0,440.0,323.0,5345.0,1742.0,0.0,0.0,3.0,4.0]|\n",
      "|[324.0,4.0,787.0,408.0,22.0,1947.0,1.0,1.0,4.0,1.0]  |\n",
      "|[304.0,4.0,757.0,493.0,1615.0,1852.0,1.0,1.0,4.0,2.0]|\n",
      "|[339.0,4.0,711.0,422.0,1835.0,199.0,1.0,1.0,4.0,1.0] |\n",
      "+-----------------------------------------------------+\n",
      "only showing top 20 rows\n",
      "\n"
     ]
    }
   ],
   "source": [
    "cars = spark.read.csv(\"../0_data/Carros.csv\", header=True, inferSchema=True, sep=\";\")\n",
    "vectas = VectorAssembler(inputCols=[\"Consumo\", \"Cilindros\", \"Cilindradas\", \"RelEixoTraseiro\", \"Peso\", \"Tempo\", \"TipoMotor\", \"Transmissao\", \"Marchas\", \"Carburadors\"], outputCol=\"characteristics\")\n",
    "cars_vectas = vectas.transform(cars)\n",
    "cars_vectas.select('characteristics').show(truncate=False)"
   ]
  },
  {
   "cell_type": "code",
   "execution_count": 5,
   "metadata": {},
   "outputs": [
    {
     "name": "stderr",
     "output_type": "stream",
     "text": [
      "                                                                                \r"
     ]
    }
   ],
   "source": [
    "pca = PCA(k=3, inputCol=\"characteristics\", outputCol=\"pca\")\n",
    "model = pca.fit(cars_vectas)"
   ]
  },
  {
   "cell_type": "code",
   "execution_count": 8,
   "metadata": {},
   "outputs": [
    {
     "name": "stdout",
     "output_type": "stream",
     "text": [
      "+-----------------------------------------------------------+\n",
      "|pca                                                        |\n",
      "+-----------------------------------------------------------+\n",
      "|[618.7707206779619,-937.7123949973537,1231.9633529945518]  |\n",
      "|[3112.9887675342234,-161.05746385491454,1191.8619913054386]|\n",
      "|[640.49590077107,-1120.7188865110413,1320.0756315189058]   |\n",
      "|[3466.09568775567,-149.6942141829825,1401.2041780368531]   |\n",
      "|[661.4577445758738,-812.4592128844109,1395.294932831636]   |\n",
      "|[769.2343671787745,-1120.4160559477314,1518.7436632279532] |\n",
      "|[644.8369503533219,-727.9539376169612,1313.6815210979355]  |\n",
      "|[9.101880661709954,1061.2954036677907,1045.1710500215688]  |\n",
      "|[67.1336096650841,878.4793682045025,1143.9379120496162]    |\n",
      "|[31.390504477140738,1095.3694498285759,1306.0124861906324] |\n",
      "|[32.891659222089714,1091.1521230845244,1310.0881577350904] |\n",
      "|[-118.37273751675384,1832.7719274058172,2088.6955393326043]|\n",
      "|[-150.18148405358014,1820.8730926512799,2091.103355076612] |\n",
      "|[-184.0268468033436,1930.3231940423905,1982.8031901298739] |\n",
      "|[835.9451693278476,-748.8857628718287,1538.0889537849146]  |\n",
      "|[5495.038233422236,777.0454947426259,1390.3493834348235]   |\n",
      "|[5402.955892349921,772.4728618077428,1330.0311995807017]   |\n",
      "|[329.1243448565212,-796.2299760858433,1876.6906247404206]  |\n",
      "|[1821.0609870602023,-252.8906602052055,1736.5182284793489] |\n",
      "|[1636.9493562944267,914.9927770681542,570.2389907310248]   |\n",
      "+-----------------------------------------------------------+\n",
      "only showing top 20 rows\n",
      "\n"
     ]
    }
   ],
   "source": [
    "result = model.transform(cars_vectas)\n",
    "result.select(\"pca\").show(truncate=False)"
   ]
  },
  {
   "cell_type": "code",
   "execution_count": null,
   "metadata": {},
   "outputs": [],
   "source": []
  }
 ],
 "metadata": {
  "kernelspec": {
   "display_name": "pyspark",
   "language": "python",
   "name": "python3"
  },
  "language_info": {
   "codemirror_mode": {
    "name": "ipython",
    "version": 3
   },
   "file_extension": ".py",
   "mimetype": "text/x-python",
   "name": "python",
   "nbconvert_exporter": "python",
   "pygments_lexer": "ipython3",
   "version": "3.11.8"
  }
 },
 "nbformat": 4,
 "nbformat_minor": 2
}
