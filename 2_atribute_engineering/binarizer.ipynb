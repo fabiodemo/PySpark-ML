{
 "cells": [
  {
   "cell_type": "markdown",
   "metadata": {},
   "source": [
    "# Binarizer"
   ]
  },
  {
   "cell_type": "code",
   "execution_count": 1,
   "metadata": {},
   "outputs": [
    {
     "name": "stderr",
     "output_type": "stream",
     "text": [
      "24/03/27 23:01:49 WARN Utils: Your hostname, pop-os resolves to a loopback address: 127.0.1.1; using 192.168.0.108 instead (on interface wlo1)\n",
      "24/03/27 23:01:49 WARN Utils: Set SPARK_LOCAL_IP if you need to bind to another address\n",
      "Setting default log level to \"WARN\".\n",
      "To adjust logging level use sc.setLogLevel(newLevel). For SparkR, use setLogLevel(newLevel).\n",
      "24/03/27 23:01:50 WARN NativeCodeLoader: Unable to load native-hadoop library for your platform... using builtin-java classes where applicable\n",
      "24/03/27 23:01:50 WARN Utils: Service 'SparkUI' could not bind on port 4040. Attempting port 4041.\n"
     ]
    }
   ],
   "source": [
    "import findspark, pyspark\n",
    "from pyspark.sql import SparkSession\n",
    "findspark.init()\n",
    "spark = SparkSession.builder.appName(\"binarizer\").getOrCreate()"
   ]
  },
  {
   "cell_type": "code",
   "execution_count": 2,
   "metadata": {},
   "outputs": [],
   "source": [
    "from pyspark.ml.feature import Binarizer"
   ]
  },
  {
   "cell_type": "code",
   "execution_count": 4,
   "metadata": {},
   "outputs": [
    {
     "name": "stdout",
     "output_type": "stream",
     "text": [
      "+-----------+----------+-----------+----------+-----------+\n",
      "|sepallength|sepalwidth|petallength|petalwidth|      class|\n",
      "+-----------+----------+-----------+----------+-----------+\n",
      "|        5.1|       3.5|        1.4|       0.2|Iris-setosa|\n",
      "|        4.9|       3.0|        1.4|       0.2|Iris-setosa|\n",
      "|        4.7|       3.2|        1.3|       0.2|Iris-setosa|\n",
      "|        4.6|       3.1|        1.5|       0.2|Iris-setosa|\n",
      "|        5.0|       3.6|        1.4|       0.2|Iris-setosa|\n",
      "+-----------+----------+-----------+----------+-----------+\n",
      "only showing top 5 rows\n",
      "\n"
     ]
    }
   ],
   "source": [
    "df_iris = spark.read.csv(\"../0_data/iris.csv\", header=True, inferSchema=True)\n",
    "df_iris.show(5)"
   ]
  },
  {
   "cell_type": "code",
   "execution_count": 7,
   "metadata": {},
   "outputs": [],
   "source": [
    "binarizer = Binarizer(threshold=5, inputCol=\"sepallength\", outputCol=\"sepallength_bin\")"
   ]
  },
  {
   "cell_type": "code",
   "execution_count": 9,
   "metadata": {},
   "outputs": [
    {
     "name": "stdout",
     "output_type": "stream",
     "text": [
      "+-----------+----------+-----------+----------+-----------+---------------+\n",
      "|sepallength|sepalwidth|petallength|petalwidth|      class|sepallength_bin|\n",
      "+-----------+----------+-----------+----------+-----------+---------------+\n",
      "|        5.1|       3.5|        1.4|       0.2|Iris-setosa|            1.0|\n",
      "|        4.9|       3.0|        1.4|       0.2|Iris-setosa|            0.0|\n",
      "|        4.7|       3.2|        1.3|       0.2|Iris-setosa|            0.0|\n",
      "|        4.6|       3.1|        1.5|       0.2|Iris-setosa|            0.0|\n",
      "|        5.0|       3.6|        1.4|       0.2|Iris-setosa|            0.0|\n",
      "|        5.4|       3.9|        1.7|       0.4|Iris-setosa|            1.0|\n",
      "|        4.6|       3.4|        1.4|       0.3|Iris-setosa|            0.0|\n",
      "|        5.0|       3.4|        1.5|       0.2|Iris-setosa|            0.0|\n",
      "|        4.4|       2.9|        1.4|       0.2|Iris-setosa|            0.0|\n",
      "|        4.9|       3.1|        1.5|       0.1|Iris-setosa|            0.0|\n",
      "|        5.4|       3.7|        1.5|       0.2|Iris-setosa|            1.0|\n",
      "|        4.8|       3.4|        1.6|       0.2|Iris-setosa|            0.0|\n",
      "|        4.8|       3.0|        1.4|       0.1|Iris-setosa|            0.0|\n",
      "|        4.3|       3.0|        1.1|       0.1|Iris-setosa|            0.0|\n",
      "|        5.8|       4.0|        1.2|       0.2|Iris-setosa|            1.0|\n",
      "|        5.7|       4.4|        1.5|       0.4|Iris-setosa|            1.0|\n",
      "|        5.4|       3.9|        1.3|       0.4|Iris-setosa|            1.0|\n",
      "|        5.1|       3.5|        1.4|       0.3|Iris-setosa|            1.0|\n",
      "|        5.7|       3.8|        1.7|       0.3|Iris-setosa|            1.0|\n",
      "|        5.1|       3.8|        1.5|       0.3|Iris-setosa|            1.0|\n",
      "+-----------+----------+-----------+----------+-----------+---------------+\n",
      "only showing top 20 rows\n",
      "\n"
     ]
    }
   ],
   "source": [
    "iris_bin = binarizer.transform(df_iris)\n",
    "iris_bin.show()"
   ]
  },
  {
   "cell_type": "code",
   "execution_count": null,
   "metadata": {},
   "outputs": [],
   "source": []
  }
 ],
 "metadata": {
  "kernelspec": {
   "display_name": "pyspark",
   "language": "python",
   "name": "python3"
  },
  "language_info": {
   "codemirror_mode": {
    "name": "ipython",
    "version": 3
   },
   "file_extension": ".py",
   "mimetype": "text/x-python",
   "name": "python",
   "nbconvert_exporter": "python",
   "pygments_lexer": "ipython3",
   "version": "3.11.8"
  }
 },
 "nbformat": 4,
 "nbformat_minor": 2
}
