{
 "cells": [
  {
   "cell_type": "markdown",
   "metadata": {},
   "source": [
    "# Strings and Text Functions"
   ]
  },
  {
   "cell_type": "markdown",
   "metadata": {},
   "source": [
    "## String to Index"
   ]
  },
  {
   "cell_type": "code",
   "execution_count": 2,
   "metadata": {},
   "outputs": [
    {
     "name": "stderr",
     "output_type": "stream",
     "text": [
      "24/03/29 15:53:00 WARN SparkSession: Using an existing Spark session; only runtime SQL configurations will take effect.\n"
     ]
    }
   ],
   "source": [
    "import findspark, pyspark\n",
    "from pyspark.sql import SparkSession\n",
    "findspark.init()\n",
    "spark = SparkSession.builder.appName(\"indextostring\").getOrCreate()"
   ]
  },
  {
   "cell_type": "code",
   "execution_count": 3,
   "metadata": {},
   "outputs": [],
   "source": [
    "from pyspark.ml.feature import StringIndexer"
   ]
  },
  {
   "cell_type": "code",
   "execution_count": 4,
   "metadata": {},
   "outputs": [
    {
     "name": "stdout",
     "output_type": "stream",
     "text": [
      "+-----------+---------+------+---+------+--------+-------------+---------+--------------+---------------+------+\n",
      "|CreditScore|Geography|Gender|Age|Tenure| Balance|NumOfProducts|HasCrCard|IsActiveMember|EstimatedSalary|Exited|\n",
      "+-----------+---------+------+---+------+--------+-------------+---------+--------------+---------------+------+\n",
      "|        619|   France|Female| 42|     2|       0|            1|        1|             1|       10134888|     1|\n",
      "|        608|    Spain|Female| 41|     1| 8380786|            1|        0|             1|       11254258|     0|\n",
      "|        502|   France|Female| 42|     8| 1596608|            3|        1|             0|       11393157|     1|\n",
      "|        699|   France|Female| 39|     1|       0|            2|        0|             0|        9382663|     0|\n",
      "|        850|    Spain|Female| 43|     2|12551082|            1|        1|             1|         790841|     0|\n",
      "+-----------+---------+------+---+------+--------+-------------+---------+--------------+---------------+------+\n",
      "only showing top 5 rows\n",
      "\n"
     ]
    }
   ],
   "source": [
    "churn = spark.read.csv(\"../0_data/Churn.csv\", header=True, inferSchema=True, sep=\";\")\n",
    "churn.show(5)"
   ]
  },
  {
   "cell_type": "code",
   "execution_count": 5,
   "metadata": {},
   "outputs": [
    {
     "name": "stdout",
     "output_type": "stream",
     "text": [
      "+---------+-----+\n",
      "|Geography|index|\n",
      "+---------+-----+\n",
      "|   France|  0.0|\n",
      "|    Spain|  2.0|\n",
      "|   France|  0.0|\n",
      "|   France|  0.0|\n",
      "|    Spain|  2.0|\n",
      "|    Spain|  2.0|\n",
      "|   France|  0.0|\n",
      "|  Germany|  1.0|\n",
      "|   France|  0.0|\n",
      "|   France|  0.0|\n",
      "|   France|  0.0|\n",
      "|    Spain|  2.0|\n",
      "|   France|  0.0|\n",
      "|   France|  0.0|\n",
      "|    Spain|  2.0|\n",
      "+---------+-----+\n",
      "only showing top 15 rows\n",
      "\n"
     ]
    }
   ],
   "source": [
    "index = StringIndexer(inputCol=\"Geography\", outputCol=\"index\")\n",
    "model = index.fit(churn)\n",
    "indexed = model.transform(churn)\n",
    "indexed.select(\"Geography\", \"index\").show(15)"
   ]
  },
  {
   "cell_type": "markdown",
   "metadata": {},
   "source": [
    "## Index to String"
   ]
  },
  {
   "cell_type": "code",
   "execution_count": 6,
   "metadata": {},
   "outputs": [],
   "source": [
    "from pyspark.ml.feature import IndexToString"
   ]
  },
  {
   "cell_type": "code",
   "execution_count": 7,
   "metadata": {},
   "outputs": [
    {
     "name": "stdout",
     "output_type": "stream",
     "text": [
      "+---------+-----+-----------------+\n",
      "|Geography|index|original_category|\n",
      "+---------+-----+-----------------+\n",
      "|   France|  0.0|           France|\n",
      "|    Spain|  2.0|            Spain|\n",
      "|   France|  0.0|           France|\n",
      "|   France|  0.0|           France|\n",
      "|    Spain|  2.0|            Spain|\n",
      "|    Spain|  2.0|            Spain|\n",
      "|   France|  0.0|           France|\n",
      "|  Germany|  1.0|          Germany|\n",
      "|   France|  0.0|           France|\n",
      "|   France|  0.0|           France|\n",
      "|   France|  0.0|           France|\n",
      "|    Spain|  2.0|            Spain|\n",
      "|   France|  0.0|           France|\n",
      "|   France|  0.0|           France|\n",
      "|    Spain|  2.0|            Spain|\n",
      "+---------+-----+-----------------+\n",
      "only showing top 15 rows\n",
      "\n"
     ]
    }
   ],
   "source": [
    "text = IndexToString(inputCol=\"index\", outputCol=\"original_category\")\n",
    "converted = text.transform(indexed)\n",
    "converted.select(\"Geography\", \"index\", \"original_category\").show(15)"
   ]
  },
  {
   "cell_type": "markdown",
   "metadata": {},
   "source": []
  },
  {
   "cell_type": "code",
   "execution_count": null,
   "metadata": {},
   "outputs": [],
   "source": []
  }
 ],
 "metadata": {
  "kernelspec": {
   "display_name": "pyspark",
   "language": "python",
   "name": "python3"
  },
  "language_info": {
   "codemirror_mode": {
    "name": "ipython",
    "version": 3
   },
   "file_extension": ".py",
   "mimetype": "text/x-python",
   "name": "python",
   "nbconvert_exporter": "python",
   "pygments_lexer": "ipython3",
   "version": "3.11.8"
  }
 },
 "nbformat": 4,
 "nbformat_minor": 2
}
