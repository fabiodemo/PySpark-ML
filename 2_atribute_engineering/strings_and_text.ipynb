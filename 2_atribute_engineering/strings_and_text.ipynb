{
 "cells": [
  {
   "cell_type": "markdown",
   "metadata": {},
   "source": [
    "# Strings and Text Functions"
   ]
  },
  {
   "cell_type": "markdown",
   "metadata": {},
   "source": [
    "## String to Index"
   ]
  },
  {
   "cell_type": "code",
   "execution_count": 1,
   "metadata": {},
   "outputs": [
    {
     "name": "stderr",
     "output_type": "stream",
     "text": [
      "24/03/29 16:34:39 WARN Utils: Your hostname, pop-os resolves to a loopback address: 127.0.1.1; using 192.168.0.111 instead (on interface wlo1)\n",
      "24/03/29 16:34:39 WARN Utils: Set SPARK_LOCAL_IP if you need to bind to another address\n",
      "Setting default log level to \"WARN\".\n",
      "To adjust logging level use sc.setLogLevel(newLevel). For SparkR, use setLogLevel(newLevel).\n",
      "24/03/29 16:34:39 WARN NativeCodeLoader: Unable to load native-hadoop library for your platform... using builtin-java classes where applicable\n"
     ]
    }
   ],
   "source": [
    "import findspark, pyspark\n",
    "from pyspark.sql import SparkSession\n",
    "findspark.init()\n",
    "spark = SparkSession.builder.appName(\"stringandtextfunctions\").getOrCreate()"
   ]
  },
  {
   "cell_type": "code",
   "execution_count": 2,
   "metadata": {},
   "outputs": [],
   "source": [
    "from pyspark.ml.feature import StringIndexer"
   ]
  },
  {
   "cell_type": "code",
   "execution_count": 3,
   "metadata": {},
   "outputs": [
    {
     "name": "stdout",
     "output_type": "stream",
     "text": [
      "+-----------+---------+------+---+------+--------+-------------+---------+--------------+---------------+------+\n",
      "|CreditScore|Geography|Gender|Age|Tenure| Balance|NumOfProducts|HasCrCard|IsActiveMember|EstimatedSalary|Exited|\n",
      "+-----------+---------+------+---+------+--------+-------------+---------+--------------+---------------+------+\n",
      "|        619|   France|Female| 42|     2|       0|            1|        1|             1|       10134888|     1|\n",
      "|        608|    Spain|Female| 41|     1| 8380786|            1|        0|             1|       11254258|     0|\n",
      "|        502|   France|Female| 42|     8| 1596608|            3|        1|             0|       11393157|     1|\n",
      "|        699|   France|Female| 39|     1|       0|            2|        0|             0|        9382663|     0|\n",
      "|        850|    Spain|Female| 43|     2|12551082|            1|        1|             1|         790841|     0|\n",
      "+-----------+---------+------+---+------+--------+-------------+---------+--------------+---------------+------+\n",
      "only showing top 5 rows\n",
      "\n"
     ]
    }
   ],
   "source": [
    "churn = spark.read.csv(\"../0_data/Churn.csv\", header=True, inferSchema=True, sep=\";\")\n",
    "churn.show(5)"
   ]
  },
  {
   "cell_type": "code",
   "execution_count": 4,
   "metadata": {},
   "outputs": [
    {
     "name": "stdout",
     "output_type": "stream",
     "text": [
      "+---------+-----+\n",
      "|Geography|index|\n",
      "+---------+-----+\n",
      "|   France|  0.0|\n",
      "|    Spain|  2.0|\n",
      "|   France|  0.0|\n",
      "|   France|  0.0|\n",
      "|    Spain|  2.0|\n",
      "|    Spain|  2.0|\n",
      "|   France|  0.0|\n",
      "|  Germany|  1.0|\n",
      "|   France|  0.0|\n",
      "|   France|  0.0|\n",
      "|   France|  0.0|\n",
      "|    Spain|  2.0|\n",
      "|   France|  0.0|\n",
      "|   France|  0.0|\n",
      "|    Spain|  2.0|\n",
      "+---------+-----+\n",
      "only showing top 15 rows\n",
      "\n"
     ]
    }
   ],
   "source": [
    "index = StringIndexer(inputCol=\"Geography\", outputCol=\"index\")\n",
    "model = index.fit(churn)\n",
    "indexed = model.transform(churn)\n",
    "indexed.select(\"Geography\", \"index\").show(15)"
   ]
  },
  {
   "cell_type": "markdown",
   "metadata": {},
   "source": [
    "## Index to String"
   ]
  },
  {
   "cell_type": "code",
   "execution_count": 5,
   "metadata": {},
   "outputs": [],
   "source": [
    "from pyspark.ml.feature import IndexToString"
   ]
  },
  {
   "cell_type": "code",
   "execution_count": 6,
   "metadata": {},
   "outputs": [
    {
     "name": "stdout",
     "output_type": "stream",
     "text": [
      "+---------+-----+-----------------+\n",
      "|Geography|index|original_category|\n",
      "+---------+-----+-----------------+\n",
      "|   France|  0.0|           France|\n",
      "|    Spain|  2.0|            Spain|\n",
      "|   France|  0.0|           France|\n",
      "|   France|  0.0|           France|\n",
      "|    Spain|  2.0|            Spain|\n",
      "|    Spain|  2.0|            Spain|\n",
      "|   France|  0.0|           France|\n",
      "|  Germany|  1.0|          Germany|\n",
      "|   France|  0.0|           France|\n",
      "|   France|  0.0|           France|\n",
      "|   France|  0.0|           France|\n",
      "|    Spain|  2.0|            Spain|\n",
      "|   France|  0.0|           France|\n",
      "|   France|  0.0|           France|\n",
      "|    Spain|  2.0|            Spain|\n",
      "+---------+-----+-----------------+\n",
      "only showing top 15 rows\n",
      "\n"
     ]
    }
   ],
   "source": [
    "text = IndexToString(inputCol=\"index\", outputCol=\"original_category\")\n",
    "converted = text.transform(indexed)\n",
    "converted.select(\"Geography\", \"index\", \"original_category\").show(15)"
   ]
  },
  {
   "cell_type": "markdown",
   "metadata": {},
   "source": [
    "## One-hot encoding"
   ]
  },
  {
   "cell_type": "code",
   "execution_count": 8,
   "metadata": {},
   "outputs": [],
   "source": [
    "from pyspark.ml.feature import OneHotEncoder"
   ]
  },
  {
   "cell_type": "code",
   "execution_count": 9,
   "metadata": {},
   "outputs": [],
   "source": [
    "index = StringIndexer(inputCol=\"Geography\", outputCol=\"indexer_c1\")\n",
    "index_onehot = index.fit(churn).transform(churn)\n",
    "\n",
    "index = StringIndexer(inputCol=\"Gender\", outputCol=\"indexer_c2\")\n",
    "index_onehot = index.fit(index_onehot).transform(index_onehot)"
   ]
  },
  {
   "cell_type": "code",
   "execution_count": 11,
   "metadata": {},
   "outputs": [
    {
     "name": "stdout",
     "output_type": "stream",
     "text": [
      "+----------+----------+\n",
      "|indexer_c1|indexer_c2|\n",
      "+----------+----------+\n",
      "|       0.0|       1.0|\n",
      "|       2.0|       1.0|\n",
      "|       0.0|       1.0|\n",
      "|       0.0|       1.0|\n",
      "|       2.0|       1.0|\n",
      "+----------+----------+\n",
      "only showing top 5 rows\n",
      "\n"
     ]
    }
   ],
   "source": [
    "index_onehot.select(\"indexer_c1\", \"indexer_c2\").show(5)"
   ]
  },
  {
   "cell_type": "code",
   "execution_count": 12,
   "metadata": {},
   "outputs": [],
   "source": [
    "onehot = OneHotEncoder(inputCols=[\"indexer_c1\", \"indexer_c2\"], outputCols=[\"onehot_c1\", \"onehot_c2\"])\n",
    "onehot = onehot.fit(index_onehot)\n",
    "onehot_out = onehot.transform(index_onehot)"
   ]
  },
  {
   "cell_type": "code",
   "execution_count": 14,
   "metadata": {},
   "outputs": [
    {
     "name": "stdout",
     "output_type": "stream",
     "text": [
      "+----------+----------+\n",
      "|indexer_c1|indexer_c2|\n",
      "+----------+----------+\n",
      "|       0.0|       1.0|\n",
      "|       2.0|       1.0|\n",
      "|       0.0|       1.0|\n",
      "|       0.0|       1.0|\n",
      "|       2.0|       1.0|\n",
      "+----------+----------+\n",
      "only showing top 5 rows\n",
      "\n"
     ]
    }
   ],
   "source": [
    "onehot_out.select(\"indexer_c1\", \"indexer_c2\").show(5)"
   ]
  },
  {
   "cell_type": "code",
   "execution_count": 15,
   "metadata": {},
   "outputs": [
    {
     "name": "stdout",
     "output_type": "stream",
     "text": [
      "+-------------+---------+\n",
      "|    onehot_c1|onehot_c2|\n",
      "+-------------+---------+\n",
      "|(2,[0],[1.0])|(1,[],[])|\n",
      "|    (2,[],[])|(1,[],[])|\n",
      "|(2,[0],[1.0])|(1,[],[])|\n",
      "|(2,[0],[1.0])|(1,[],[])|\n",
      "|    (2,[],[])|(1,[],[])|\n",
      "+-------------+---------+\n",
      "only showing top 5 rows\n",
      "\n"
     ]
    }
   ],
   "source": [
    "onehot_out.select(\"onehot_c1\", \"onehot_c2\").show(5)"
   ]
  },
  {
   "cell_type": "code",
   "execution_count": null,
   "metadata": {},
   "outputs": [],
   "source": []
  }
 ],
 "metadata": {
  "kernelspec": {
   "display_name": "pyspark",
   "language": "python",
   "name": "python3"
  },
  "language_info": {
   "codemirror_mode": {
    "name": "ipython",
    "version": 3
   },
   "file_extension": ".py",
   "mimetype": "text/x-python",
   "name": "python",
   "nbconvert_exporter": "python",
   "pygments_lexer": "ipython3",
   "version": "3.11.8"
  }
 },
 "nbformat": 4,
 "nbformat_minor": 2
}
