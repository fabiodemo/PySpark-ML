{
 "cells": [
  {
   "cell_type": "markdown",
   "metadata": {},
   "source": [
    "# Robust Scaler"
   ]
  },
  {
   "cell_type": "code",
   "execution_count": 1,
   "metadata": {},
   "outputs": [
    {
     "name": "stderr",
     "output_type": "stream",
     "text": [
      "24/04/02 16:52:49 WARN Utils: Your hostname, pop-os resolves to a loopback address: 127.0.1.1; using 192.168.0.108 instead (on interface wlo1)\n",
      "24/04/02 16:52:49 WARN Utils: Set SPARK_LOCAL_IP if you need to bind to another address\n",
      "Setting default log level to \"WARN\".\n",
      "To adjust logging level use sc.setLogLevel(newLevel). For SparkR, use setLogLevel(newLevel).\n",
      "24/04/02 16:52:50 WARN NativeCodeLoader: Unable to load native-hadoop library for your platform... using builtin-java classes where applicable\n",
      "24/04/02 16:52:50 WARN Utils: Service 'SparkUI' could not bind on port 4040. Attempting port 4041.\n"
     ]
    }
   ],
   "source": [
    "import findspark, pyspark\n",
    "from pyspark.sql import SparkSession\n",
    "findspark.init()\n",
    "spark = SparkSession.builder.appName(\"robuscaler\").getOrCreate()"
   ]
  },
  {
   "cell_type": "code",
   "execution_count": 2,
   "metadata": {},
   "outputs": [],
   "source": [
    "from pyspark.ml.feature import StandardScaler, VectorAssembler"
   ]
  },
  {
   "cell_type": "code",
   "execution_count": 3,
   "metadata": {},
   "outputs": [
    {
     "name": "stdout",
     "output_type": "stream",
     "text": [
      "+-------+---------+-----------+---------------+----+-----+---------+-----------+-------+-----------+---+\n",
      "|Consumo|Cilindros|Cilindradas|RelEixoTraseiro|Peso|Tempo|TipoMotor|Transmissao|Marchas|Carburadors| HP|\n",
      "+-------+---------+-----------+---------------+----+-----+---------+-----------+-------+-----------+---+\n",
      "|     21|        6|        160|             39| 262| 1646|        0|          1|      4|          4|110|\n",
      "|     21|        6|        160|             39|2875| 1702|        0|          1|      4|          4|110|\n",
      "|    228|        4|        108|            385| 232| 1861|        1|          1|      4|          1| 93|\n",
      "|    214|        6|        258|            308|3215| 1944|        1|          0|      3|          1|110|\n",
      "|    187|        8|        360|            315| 344| 1702|        0|          0|      3|          2|175|\n",
      "+-------+---------+-----------+---------------+----+-----+---------+-----------+-------+-----------+---+\n",
      "only showing top 5 rows\n",
      "\n"
     ]
    }
   ],
   "source": [
    "cars = spark.read.csv(\"../0_data/Carros.csv\", header=True, inferSchema=True, sep=\";\")\n",
    "cars.show(5)"
   ]
  },
  {
   "cell_type": "code",
   "execution_count": 4,
   "metadata": {},
   "outputs": [
    {
     "name": "stdout",
     "output_type": "stream",
     "text": [
      "+-------+---------+-----------+------------------+\n",
      "|Consumo|Cilindros|Cilindradas|               vec|\n",
      "+-------+---------+-----------+------------------+\n",
      "|     21|        6|        160|  [21.0,6.0,160.0]|\n",
      "|     21|        6|        160|  [21.0,6.0,160.0]|\n",
      "|    228|        4|        108| [228.0,4.0,108.0]|\n",
      "|    214|        6|        258| [214.0,6.0,258.0]|\n",
      "|    187|        8|        360| [187.0,8.0,360.0]|\n",
      "|    181|        6|        225| [181.0,6.0,225.0]|\n",
      "|    143|        8|        360| [143.0,8.0,360.0]|\n",
      "|    244|        4|       1467|[244.0,4.0,1467.0]|\n",
      "|    228|        4|       1408|[228.0,4.0,1408.0]|\n",
      "|    192|        6|       1676|[192.0,6.0,1676.0]|\n",
      "+-------+---------+-----------+------------------+\n",
      "only showing top 10 rows\n",
      "\n"
     ]
    }
   ],
   "source": [
    "vecasembler = VectorAssembler(inputCols=[\"Consumo\", \"Cilindros\", \"Cilindradas\"], outputCol=\"vec\")\n",
    "cars_vect = vecasembler.transform(cars)\n",
    "cars_vect.select(\"Consumo\", \"Cilindros\", \"Cilindradas\", \"vec\").show(10)"
   ]
  },
  {
   "cell_type": "code",
   "execution_count": 7,
   "metadata": {},
   "outputs": [
    {
     "name": "stdout",
     "output_type": "stream",
     "text": [
      "+-------+---------+-----------+------------------+-----------------------------------------------------------+\n",
      "|Consumo|Cilindros|Cilindradas|vec               |standard                                                   |\n",
      "+-------+---------+-----------+------------------+-----------------------------------------------------------+\n",
      "|21     |6        |160        |[21.0,6.0,160.0]  |[0.24996122082808128,3.359609874407659,0.20137542427273997]|\n",
      "|21     |6        |160        |[21.0,6.0,160.0]  |[0.24996122082808128,3.359609874407659,0.20137542427273997]|\n",
      "|228    |4        |108        |[228.0,4.0,108.0] |[2.713864683276311,2.239739916271773,0.13592841138409947]  |\n",
      "|214    |6        |258        |[214.0,6.0,258.0] |[2.5472238693909235,3.359609874407659,0.32471787163979315] |\n",
      "|187    |8        |360        |[187.0,8.0,360.0] |[2.2258451568976763,4.479479832543546,0.4530947046136649]  |\n",
      "|181    |6        |225        |[181.0,6.0,225.0] |[2.15442766523251,3.359609874407659,0.28318419038354053]   |\n",
      "|143    |8        |360        |[143.0,8.0,360.0] |[1.7021168846864583,4.479479832543546,0.4530947046136649]  |\n",
      "|244    |4        |1467       |[244.0,4.0,1467.0]|[2.904311327716754,2.239739916271773,1.8463609213006844]   |\n",
      "|228    |4        |1408       |[228.0,4.0,1408.0]|[2.713864683276311,2.239739916271773,1.7721037336001115]   |\n",
      "|192    |6        |1676       |[192.0,6.0,1676.0]|[2.2853597332853144,3.359609874407659,2.109407569256951]   |\n",
      "+-------+---------+-----------+------------------+-----------------------------------------------------------+\n",
      "only showing top 10 rows\n",
      "\n"
     ]
    }
   ],
   "source": [
    "std_scaler = StandardScaler(inputCol=\"vec\", outputCol=\"standard\", withStd=True, withMean=False)\n",
    "model = std_scaler.fit(cars_vect)\n",
    "cars_std = model.transform(cars_vect)\n",
    "cars_std.select(\"Consumo\", \"Cilindros\", \"Cilindradas\", \"vec\", \"standard\").show(10, truncate=False)"
   ]
  },
  {
   "cell_type": "code",
   "execution_count": null,
   "metadata": {},
   "outputs": [],
   "source": []
  }
 ],
 "metadata": {
  "kernelspec": {
   "display_name": "pyspark",
   "language": "python",
   "name": "python3"
  },
  "language_info": {
   "codemirror_mode": {
    "name": "ipython",
    "version": 3
   },
   "file_extension": ".py",
   "mimetype": "text/x-python",
   "name": "python",
   "nbconvert_exporter": "python",
   "pygments_lexer": "ipython3",
   "version": "3.11.8"
  }
 },
 "nbformat": 4,
 "nbformat_minor": 2
}
