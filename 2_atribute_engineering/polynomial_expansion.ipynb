{
 "cells": [
  {
   "cell_type": "markdown",
   "metadata": {},
   "source": [
    "# Imputer"
   ]
  },
  {
   "cell_type": "markdown",
   "metadata": {},
   "source": [
    "Vector assembly is a process of combining multiple input columns into a single vector column. \n",
    "It is commonly used in feature engineering tasks in machine learning pipelines."
   ]
  },
  {
   "cell_type": "code",
   "execution_count": 1,
   "metadata": {},
   "outputs": [
    {
     "name": "stderr",
     "output_type": "stream",
     "text": [
      "24/04/02 16:40:44 WARN Utils: Your hostname, pop-os resolves to a loopback address: 127.0.1.1; using 192.168.0.108 instead (on interface wlo1)\n",
      "24/04/02 16:40:44 WARN Utils: Set SPARK_LOCAL_IP if you need to bind to another address\n",
      "Setting default log level to \"WARN\".\n",
      "To adjust logging level use sc.setLogLevel(newLevel). For SparkR, use setLogLevel(newLevel).\n",
      "24/04/02 16:40:45 WARN NativeCodeLoader: Unable to load native-hadoop library for your platform... using builtin-java classes where applicable\n"
     ]
    }
   ],
   "source": [
    "import findspark, pyspark\n",
    "from pyspark.sql import SparkSession\n",
    "findspark.init()\n",
    "spark = SparkSession.builder.appName(\"polynomialexpansion\").getOrCreate()"
   ]
  },
  {
   "cell_type": "code",
   "execution_count": 5,
   "metadata": {},
   "outputs": [],
   "source": [
    "from pyspark.ml.feature import PolynomialExpansion, VectorAssembler"
   ]
  },
  {
   "cell_type": "code",
   "execution_count": 4,
   "metadata": {},
   "outputs": [
    {
     "name": "stdout",
     "output_type": "stream",
     "text": [
      "+-------+---------+-----------+---------------+----+-----+---------+-----------+-------+-----------+---+\n",
      "|Consumo|Cilindros|Cilindradas|RelEixoTraseiro|Peso|Tempo|TipoMotor|Transmissao|Marchas|Carburadors| HP|\n",
      "+-------+---------+-----------+---------------+----+-----+---------+-----------+-------+-----------+---+\n",
      "|     21|        6|        160|             39| 262| 1646|        0|          1|      4|          4|110|\n",
      "|     21|        6|        160|             39|2875| 1702|        0|          1|      4|          4|110|\n",
      "|    228|        4|        108|            385| 232| 1861|        1|          1|      4|          1| 93|\n",
      "|    214|        6|        258|            308|3215| 1944|        1|          0|      3|          1|110|\n",
      "|    187|        8|        360|            315| 344| 1702|        0|          0|      3|          2|175|\n",
      "+-------+---------+-----------+---------------+----+-----+---------+-----------+-------+-----------+---+\n",
      "only showing top 5 rows\n",
      "\n"
     ]
    }
   ],
   "source": [
    "cars = spark.read.csv(\"../0_data/Carros.csv\", header=True, inferSchema=True, sep=\";\")\n",
    "cars.show(5)"
   ]
  },
  {
   "cell_type": "code",
   "execution_count": 8,
   "metadata": {},
   "outputs": [
    {
     "name": "stdout",
     "output_type": "stream",
     "text": [
      "+-------+---------+-----------+---------------+----+-----+---------+-----------+-------+-----------+---+-----------------+\n",
      "|Consumo|Cilindros|Cilindradas|RelEixoTraseiro|Peso|Tempo|TipoMotor|Transmissao|Marchas|Carburadors| HP|              vec|\n",
      "+-------+---------+-----------+---------------+----+-----+---------+-----------+-------+-----------+---+-----------------+\n",
      "|     21|        6|        160|             39| 262| 1646|        0|          1|      4|          4|110| [21.0,6.0,160.0]|\n",
      "|     21|        6|        160|             39|2875| 1702|        0|          1|      4|          4|110| [21.0,6.0,160.0]|\n",
      "|    228|        4|        108|            385| 232| 1861|        1|          1|      4|          1| 93|[228.0,4.0,108.0]|\n",
      "|    214|        6|        258|            308|3215| 1944|        1|          0|      3|          1|110|[214.0,6.0,258.0]|\n",
      "|    187|        8|        360|            315| 344| 1702|        0|          0|      3|          2|175|[187.0,8.0,360.0]|\n",
      "+-------+---------+-----------+---------------+----+-----+---------+-----------+-------+-----------+---+-----------------+\n",
      "only showing top 5 rows\n",
      "\n"
     ]
    }
   ],
   "source": [
    "vecasembler = VectorAssembler(inputCols=[\"Consumo\", \"Cilindros\", \"Cilindradas\"], outputCol=\"vec\")\n",
    "cars_vect = vecasembler.transform(cars)\n",
    "cars_vect.show(5)"
   ]
  },
  {
   "cell_type": "code",
   "execution_count": 11,
   "metadata": {},
   "outputs": [
    {
     "name": "stdout",
     "output_type": "stream",
     "text": [
      "+-------+---------+-----------+-----------------+-------------------------------------------------------------+\n",
      "|Consumo|Cilindros|Cilindradas|vec              |vec_poly                                                     |\n",
      "+-------+---------+-----------+-----------------+-------------------------------------------------------------+\n",
      "|21     |6        |160        |[21.0,6.0,160.0] |[21.0,441.0,6.0,126.0,36.0,160.0,3360.0,960.0,25600.0]       |\n",
      "|21     |6        |160        |[21.0,6.0,160.0] |[21.0,441.0,6.0,126.0,36.0,160.0,3360.0,960.0,25600.0]       |\n",
      "|228    |4        |108        |[228.0,4.0,108.0]|[228.0,51984.0,4.0,912.0,16.0,108.0,24624.0,432.0,11664.0]   |\n",
      "|214    |6        |258        |[214.0,6.0,258.0]|[214.0,45796.0,6.0,1284.0,36.0,258.0,55212.0,1548.0,66564.0] |\n",
      "|187    |8        |360        |[187.0,8.0,360.0]|[187.0,34969.0,8.0,1496.0,64.0,360.0,67320.0,2880.0,129600.0]|\n",
      "+-------+---------+-----------+-----------------+-------------------------------------------------------------+\n",
      "only showing top 5 rows\n",
      "\n"
     ]
    }
   ],
   "source": [
    "pe = PolynomialExpansion(degree=2, inputCol=\"vec\", outputCol=\"vec_poly\")\n",
    "cars_poly = pe.transform(cars_vect)\n",
    "cars_poly.select(\"Consumo\", \"Cilindros\", \"Cilindradas\", \"vec\", \"vec_poly\").show(5, truncate=False)"
   ]
  },
  {
   "cell_type": "code",
   "execution_count": null,
   "metadata": {},
   "outputs": [],
   "source": []
  }
 ],
 "metadata": {
  "kernelspec": {
   "display_name": "pyspark",
   "language": "python",
   "name": "python3"
  },
  "language_info": {
   "codemirror_mode": {
    "name": "ipython",
    "version": 3
   },
   "file_extension": ".py",
   "mimetype": "text/x-python",
   "name": "python",
   "nbconvert_exporter": "python",
   "pygments_lexer": "ipython3",
   "version": "3.11.8"
  }
 },
 "nbformat": 4,
 "nbformat_minor": 2
}
