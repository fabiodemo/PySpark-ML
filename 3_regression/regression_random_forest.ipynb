{
 "cells": [
  {
   "cell_type": "markdown",
   "metadata": {},
   "source": [
    "# Regression with Random Forests"
   ]
  },
  {
   "cell_type": "code",
   "execution_count": 1,
   "metadata": {},
   "outputs": [
    {
     "name": "stderr",
     "output_type": "stream",
     "text": [
      "24/04/03 14:44:10 WARN Utils: Your hostname, pop-os resolves to a loopback address: 127.0.1.1; using 192.168.0.108 instead (on interface wlo1)\n",
      "24/04/03 14:44:10 WARN Utils: Set SPARK_LOCAL_IP if you need to bind to another address\n",
      "Setting default log level to \"WARN\".\n",
      "To adjust logging level use sc.setLogLevel(newLevel). For SparkR, use setLogLevel(newLevel).\n",
      "24/04/03 14:44:11 WARN NativeCodeLoader: Unable to load native-hadoop library for your platform... using builtin-java classes where applicable\n"
     ]
    }
   ],
   "source": [
    "import findspark, pyspark\n",
    "from pyspark.sql import SparkSession\n",
    "findspark.init()\n",
    "spark = SparkSession.builder.appName(\"regressionwithrandomforests\").getOrCreate()"
   ]
  },
  {
   "cell_type": "code",
   "execution_count": 2,
   "metadata": {},
   "outputs": [],
   "source": [
    "from pyspark.ml.feature import RFormula, Normalizer\n",
    "from pyspark.ml.regression import RandomForestRegressor\n",
    "from pyspark.ml.evaluation import RegressionEvaluator"
   ]
  },
  {
   "cell_type": "code",
   "execution_count": 3,
   "metadata": {},
   "outputs": [
    {
     "name": "stdout",
     "output_type": "stream",
     "text": [
      "32\n",
      "+-------+---------+-----------+---------------+----+-----+---------+-----------+-------+-----------+---+\n",
      "|Consumo|Cilindros|Cilindradas|RelEixoTraseiro|Peso|Tempo|TipoMotor|Transmissao|Marchas|Carburadors| HP|\n",
      "+-------+---------+-----------+---------------+----+-----+---------+-----------+-------+-----------+---+\n",
      "|     21|        6|        160|             39| 262| 1646|        0|          1|      4|          4|110|\n",
      "|     21|        6|        160|             39|2875| 1702|        0|          1|      4|          4|110|\n",
      "|    228|        4|        108|            385| 232| 1861|        1|          1|      4|          1| 93|\n",
      "|    214|        6|        258|            308|3215| 1944|        1|          0|      3|          1|110|\n",
      "|    187|        8|        360|            315| 344| 1702|        0|          0|      3|          2|175|\n",
      "+-------+---------+-----------+---------------+----+-----+---------+-----------+-------+-----------+---+\n",
      "only showing top 5 rows\n",
      "\n"
     ]
    }
   ],
   "source": [
    "cars = spark.read.csv(\"../0_data/Carros.csv\", header=True, inferSchema=True, sep=\";\")\n",
    "print(cars.count())\n",
    "cars.show(5)"
   ]
  },
  {
   "cell_type": "code",
   "execution_count": 4,
   "metadata": {},
   "outputs": [
    {
     "name": "stdout",
     "output_type": "stream",
     "text": [
      "+-------+---------+-----------+---------------+----+-----+---------+-----------+-------+-----------+---+------------------+---------+\n",
      "|Consumo|Cilindros|Cilindradas|RelEixoTraseiro|Peso|Tempo|TipoMotor|Transmissao|Marchas|Carburadors|HP |independant       |dependant|\n",
      "+-------+---------+-----------+---------------+----+-----+---------+-----------+-------+-----------+---+------------------+---------+\n",
      "|21     |6        |160        |39             |262 |1646 |0        |1          |4      |4          |110|[21.0,6.0,160.0]  |110.0    |\n",
      "|21     |6        |160        |39             |2875|1702 |0        |1          |4      |4          |110|[21.0,6.0,160.0]  |110.0    |\n",
      "|228    |4        |108        |385            |232 |1861 |1        |1          |4      |1          |93 |[228.0,4.0,108.0] |93.0     |\n",
      "|214    |6        |258        |308            |3215|1944 |1        |0          |3      |1          |110|[214.0,6.0,258.0] |110.0    |\n",
      "|187    |8        |360        |315            |344 |1702 |0        |0          |3      |2          |175|[187.0,8.0,360.0] |175.0    |\n",
      "|181    |6        |225        |276            |346 |2022 |1        |0          |3      |1          |105|[181.0,6.0,225.0] |105.0    |\n",
      "|143    |8        |360        |321            |357 |1584 |0        |0          |3      |4          |245|[143.0,8.0,360.0] |245.0    |\n",
      "|244    |4        |1467       |369            |319 |20   |1        |0          |4      |2          |62 |[244.0,4.0,1467.0]|62.0     |\n",
      "|228    |4        |1408       |392            |315 |229  |1        |0          |4      |2          |95 |[228.0,4.0,1408.0]|95.0     |\n",
      "|192    |6        |1676       |392            |344 |183  |1        |0          |4      |4          |123|[192.0,6.0,1676.0]|123.0    |\n",
      "|178    |6        |1676       |392            |344 |189  |1        |0          |4      |4          |123|[178.0,6.0,1676.0]|123.0    |\n",
      "|164    |8        |2758       |307            |407 |174  |0        |0          |3      |3          |180|[164.0,8.0,2758.0]|180.0    |\n",
      "|173    |8        |2758       |307            |373 |176  |0        |0          |3      |3          |180|[173.0,8.0,2758.0]|180.0    |\n",
      "|152    |8        |2758       |307            |378 |18   |0        |0          |3      |3          |180|[152.0,8.0,2758.0]|180.0    |\n",
      "|104    |8        |472        |293            |525 |1798 |0        |0          |3      |4          |205|[104.0,8.0,472.0] |205.0    |\n",
      "|104    |8        |460        |3              |5424|1782 |0        |0          |3      |4          |215|[104.0,8.0,460.0] |215.0    |\n",
      "|147    |8        |440        |323            |5345|1742 |0        |0          |3      |4          |230|[147.0,8.0,440.0] |230.0    |\n",
      "|324    |4        |787        |408            |22  |1947 |1        |1          |4      |1          |66 |[324.0,4.0,787.0] |66.0     |\n",
      "|304    |4        |757        |493            |1615|1852 |1        |1          |4      |2          |52 |[304.0,4.0,757.0] |52.0     |\n",
      "|339    |4        |711        |422            |1835|199  |1        |1          |4      |1          |65 |[339.0,4.0,711.0] |65.0     |\n",
      "+-------+---------+-----------+---------------+----+-----+---------+-----------+-------+-----------+---+------------------+---------+\n",
      "only showing top 20 rows\n",
      "\n"
     ]
    }
   ],
   "source": [
    "r_formula = RFormula(formula=\"HP ~ Consumo + Cilindros + Cilindradas\", featuresCol=\"independant\", labelCol=\"dependant\")\n",
    "cars_rf = r_formula.fit(cars).transform(cars)\n",
    "cars_rf.show(truncate=False)"
   ]
  },
  {
   "cell_type": "code",
   "execution_count": 5,
   "metadata": {},
   "outputs": [],
   "source": [
    "norm = Normalizer(inputCol=\"independant\", outputCol=\"independant_norm\", p=1.0)\n",
    "cars_norm = norm.transform(cars_rf)"
   ]
  },
  {
   "cell_type": "code",
   "execution_count": 7,
   "metadata": {},
   "outputs": [
    {
     "name": "stdout",
     "output_type": "stream",
     "text": [
      "+---------+------------------+--------------------------------------------------------------+\n",
      "|dependant|independant       |independant_norm                                              |\n",
      "+---------+------------------+--------------------------------------------------------------+\n",
      "|110.0    |[21.0,6.0,160.0]  |[0.11229946524064172,0.03208556149732621,0.8556149732620321]  |\n",
      "|110.0    |[21.0,6.0,160.0]  |[0.11229946524064172,0.03208556149732621,0.8556149732620321]  |\n",
      "|93.0     |[228.0,4.0,108.0] |[0.6705882352941176,0.011764705882352941,0.3176470588235294]  |\n",
      "|110.0    |[214.0,6.0,258.0] |[0.4476987447698745,0.012552301255230125,0.5397489539748954]  |\n",
      "|175.0    |[187.0,8.0,360.0] |[0.33693693693693694,0.014414414414414415,0.6486486486486487] |\n",
      "|105.0    |[181.0,6.0,225.0] |[0.4393203883495146,0.014563106796116505,0.5461165048543689]  |\n",
      "|245.0    |[143.0,8.0,360.0] |[0.27984344422700586,0.015655577299412915,0.7045009784735812] |\n",
      "|62.0     |[244.0,4.0,1467.0]|[0.1422740524781341,0.0023323615160349854,0.8553935860058309] |\n",
      "|95.0     |[228.0,4.0,1408.0]|[0.13902439024390245,0.0024390243902439024,0.8585365853658536]|\n",
      "|123.0    |[192.0,6.0,1676.0]|[0.10245464247598719,0.0032017075773745998,0.8943436499466382]|\n",
      "+---------+------------------+--------------------------------------------------------------+\n",
      "only showing top 10 rows\n",
      "\n"
     ]
    }
   ],
   "source": [
    "cars_norm.select(\"dependant\", \"independant\", \"independant_norm\").show(10, truncate=False)"
   ]
  },
  {
   "cell_type": "code",
   "execution_count": 13,
   "metadata": {},
   "outputs": [
    {
     "name": "stdout",
     "output_type": "stream",
     "text": [
      "25 7\n"
     ]
    }
   ],
   "source": [
    "cars_train, cars_test = cars_norm.randomSplit([0.7, 0.3])\n",
    "print(cars_train.count(), cars_test.count())"
   ]
  },
  {
   "cell_type": "code",
   "execution_count": 14,
   "metadata": {},
   "outputs": [
    {
     "name": "stderr",
     "output_type": "stream",
     "text": [
      "24/04/03 14:49:53 WARN DecisionTreeMetadata: DecisionTree reducing maxBins from 32 to 25 (= number of training instances)\n",
      "24/04/03 14:49:54 WARN DAGScheduler: Broadcasting large task binary with size 1240.4 KiB\n",
      "24/04/03 14:49:54 WARN DAGScheduler: Broadcasting large task binary with size 1127.3 KiB\n"
     ]
    }
   ],
   "source": [
    "cars_rf = RandomForestRegressor(featuresCol=\"independant_norm\", \n",
    "                           labelCol=\"dependant\",\n",
    "                           maxDepth=10,\n",
    "                           numTrees=500,\n",
    "                           seed=42)\n",
    "cars_rf_model = cars_rf.fit(cars_train)"
   ]
  },
  {
   "cell_type": "code",
   "execution_count": 15,
   "metadata": {},
   "outputs": [
    {
     "name": "stderr",
     "output_type": "stream",
     "text": [
      "WARNING: An illegal reflective access operation has occurred\n",
      "WARNING: Illegal reflective access by org.apache.spark.util.SizeEstimator$ (file:/opt/spark/jars/spark-core_2.12-3.5.1.jar) to field java.nio.charset.Charset.name\n",
      "WARNING: Please consider reporting this to the maintainers of org.apache.spark.util.SizeEstimator$\n",
      "WARNING: Use --illegal-access=warn to enable warnings of further illegal reflective access operations\n",
      "WARNING: All illegal access operations will be denied in a future release\n"
     ]
    },
    {
     "name": "stdout",
     "output_type": "stream",
     "text": [
      "+---------+----------+\n",
      "|dependant|prediction|\n",
      "+---------+----------+\n",
      "|150.0    |173.19    |\n",
      "|264.0    |177.7     |\n",
      "|175.0    |150.664   |\n",
      "|175.0    |132.876   |\n",
      "|110.0    |115.156   |\n",
      "|97.0     |106.628   |\n",
      "|65.0     |108.602   |\n",
      "+---------+----------+\n",
      "\n"
     ]
    }
   ],
   "source": [
    "predict = cars_rf_model.transform(cars_test)\n",
    "predict.select(\"dependant\", \"prediction\").show(10, truncate=False)"
   ]
  },
  {
   "cell_type": "code",
   "execution_count": 18,
   "metadata": {},
   "outputs": [
    {
     "name": "stdout",
     "output_type": "stream",
     "text": [
      "RMSE: 42.04\n"
     ]
    }
   ],
   "source": [
    "rmse = RegressionEvaluator(labelCol=\"dependant\", predictionCol=\"prediction\", metricName=\"rmse\").evaluate(predict)\n",
    "print(f\"RMSE: {rmse:.2f}\")"
   ]
  },
  {
   "cell_type": "code",
   "execution_count": null,
   "metadata": {},
   "outputs": [],
   "source": []
  }
 ],
 "metadata": {
  "kernelspec": {
   "display_name": "pyspark",
   "language": "python",
   "name": "python3"
  },
  "language_info": {
   "codemirror_mode": {
    "name": "ipython",
    "version": 3
   },
   "file_extension": ".py",
   "mimetype": "text/x-python",
   "name": "python",
   "nbconvert_exporter": "python",
   "pygments_lexer": "ipython3",
   "version": "3.11.8"
  }
 },
 "nbformat": 4,
 "nbformat_minor": 2
}
