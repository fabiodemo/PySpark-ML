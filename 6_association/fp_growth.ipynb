{
 "cells": [
  {
   "cell_type": "markdown",
   "metadata": {},
   "source": [
    "# FP Growth"
   ]
  },
  {
   "cell_type": "code",
   "execution_count": 1,
   "metadata": {},
   "outputs": [
    {
     "name": "stderr",
     "output_type": "stream",
     "text": [
      "24/04/03 16:51:10 WARN Utils: Your hostname, pop-os resolves to a loopback address: 127.0.1.1; using 192.168.0.108 instead (on interface wlo1)\n",
      "24/04/03 16:51:10 WARN Utils: Set SPARK_LOCAL_IP if you need to bind to another address\n",
      "Setting default log level to \"WARN\".\n",
      "To adjust logging level use sc.setLogLevel(newLevel). For SparkR, use setLogLevel(newLevel).\n",
      "24/04/03 16:51:10 WARN NativeCodeLoader: Unable to load native-hadoop library for your platform... using builtin-java classes where applicable\n"
     ]
    }
   ],
   "source": [
    "import findspark, pyspark\n",
    "from pyspark.sql import SparkSession\n",
    "findspark.init()\n",
    "spark = SparkSession.builder.appName(\"fpgrowth\").getOrCreate()"
   ]
  },
  {
   "cell_type": "code",
   "execution_count": 2,
   "metadata": {},
   "outputs": [],
   "source": [
    "from pyspark.ml.fpm import FPGrowth\n",
    "from pyspark.sql.functions import split"
   ]
  },
  {
   "cell_type": "code",
   "execution_count": 3,
   "metadata": {},
   "outputs": [
    {
     "name": "stdout",
     "output_type": "stream",
     "text": [
      "+---------------------------+\n",
      "|transactions               |\n",
      "+---------------------------+\n",
      "|[Chocolate, Pizza, Sorvete]|\n",
      "|[Pizza, Sorvete]           |\n",
      "|[Chocolate, Pizza]         |\n",
      "|[Chocolate, Pizza, Sorvete]|\n",
      "|[Chocolate, Pizza]         |\n",
      "|[Pizza]                    |\n",
      "+---------------------------+\n",
      "\n"
     ]
    }
   ],
   "source": [
    "transactions = spark.read.text(\"../0_data/Transacoes.txt\").select(split(\"value\", \"\\s+\").alias(\"transactions\"))\n",
    "transactions.show(truncate=False)"
   ]
  },
  {
   "cell_type": "code",
   "execution_count": 4,
   "metadata": {},
   "outputs": [
    {
     "name": "stdout",
     "output_type": "stream",
     "text": [
      "+------------------+----+\n",
      "|             items|freq|\n",
      "+------------------+----+\n",
      "|         [Sorvete]|   3|\n",
      "|  [Sorvete, Pizza]|   3|\n",
      "|       [Chocolate]|   4|\n",
      "|[Chocolate, Pizza]|   4|\n",
      "|           [Pizza]|   6|\n",
      "+------------------+----+\n",
      "\n"
     ]
    }
   ],
   "source": [
    "fp = FPGrowth(itemsCol=\"transactions\", minSupport=0.5, minConfidence=0.5)\n",
    "model = fp.fit(transactions)\n",
    "model.freqItemsets.show()"
   ]
  },
  {
   "cell_type": "code",
   "execution_count": 5,
   "metadata": {},
   "outputs": [
    {
     "name": "stdout",
     "output_type": "stream",
     "text": [
      "+-----------+-----------+------------------+----+------------------+\n",
      "| antecedent| consequent|        confidence|lift|           support|\n",
      "+-----------+-----------+------------------+----+------------------+\n",
      "|  [Sorvete]|    [Pizza]|               1.0| 1.0|               0.5|\n",
      "|[Chocolate]|    [Pizza]|               1.0| 1.0|0.6666666666666666|\n",
      "|    [Pizza]|  [Sorvete]|               0.5| 1.0|               0.5|\n",
      "|    [Pizza]|[Chocolate]|0.6666666666666666| 1.0|0.6666666666666666|\n",
      "+-----------+-----------+------------------+----+------------------+\n",
      "\n"
     ]
    }
   ],
   "source": [
    "model.associationRules.show()"
   ]
  },
  {
   "cell_type": "code",
   "execution_count": 6,
   "metadata": {},
   "outputs": [
    {
     "name": "stdout",
     "output_type": "stream",
     "text": [
      "+---------------------------+--------------------+\n",
      "|transactions               |prediction          |\n",
      "+---------------------------+--------------------+\n",
      "|[Chocolate, Pizza, Sorvete]|[]                  |\n",
      "|[Pizza, Sorvete]           |[Chocolate]         |\n",
      "|[Chocolate, Pizza]         |[Sorvete]           |\n",
      "|[Chocolate, Pizza, Sorvete]|[]                  |\n",
      "|[Chocolate, Pizza]         |[Sorvete]           |\n",
      "|[Pizza]                    |[Sorvete, Chocolate]|\n",
      "+---------------------------+--------------------+\n",
      "\n"
     ]
    }
   ],
   "source": [
    "model.transform(transactions).show(truncate=False)"
   ]
  },
  {
   "cell_type": "code",
   "execution_count": null,
   "metadata": {},
   "outputs": [],
   "source": []
  }
 ],
 "metadata": {
  "kernelspec": {
   "display_name": "pyspark",
   "language": "python",
   "name": "python3"
  },
  "language_info": {
   "codemirror_mode": {
    "name": "ipython",
    "version": 3
   },
   "file_extension": ".py",
   "mimetype": "text/x-python",
   "name": "python",
   "nbconvert_exporter": "python",
   "pygments_lexer": "ipython3",
   "version": "3.11.8"
  }
 },
 "nbformat": 4,
 "nbformat_minor": 2
}
