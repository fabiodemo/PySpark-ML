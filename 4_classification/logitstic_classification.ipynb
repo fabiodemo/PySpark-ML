{
 "cells": [
  {
   "cell_type": "markdown",
   "metadata": {},
   "source": [
    "# Generalized"
   ]
  },
  {
   "cell_type": "code",
   "execution_count": 1,
   "metadata": {},
   "outputs": [
    {
     "name": "stderr",
     "output_type": "stream",
     "text": [
      "24/04/03 15:11:47 WARN Utils: Your hostname, pop-os resolves to a loopback address: 127.0.1.1; using 192.168.0.108 instead (on interface wlo1)\n",
      "24/04/03 15:11:47 WARN Utils: Set SPARK_LOCAL_IP if you need to bind to another address\n",
      "Setting default log level to \"WARN\".\n",
      "To adjust logging level use sc.setLogLevel(newLevel). For SparkR, use setLogLevel(newLevel).\n",
      "24/04/03 15:11:48 WARN NativeCodeLoader: Unable to load native-hadoop library for your platform... using builtin-java classes where applicable\n",
      "24/04/03 15:11:49 WARN Utils: Service 'SparkUI' could not bind on port 4040. Attempting port 4041.\n"
     ]
    }
   ],
   "source": [
    "import findspark, pyspark\n",
    "from pyspark.sql import SparkSession\n",
    "findspark.init()\n",
    "spark = SparkSession.builder.appName(\"generalized\").getOrCreate()"
   ]
  },
  {
   "cell_type": "code",
   "execution_count": 2,
   "metadata": {},
   "outputs": [],
   "source": [
    "from pyspark.ml.feature import RFormula\n",
    "from pyspark.ml.classification import LogisticRegression\n",
    "from pyspark.ml.evaluation import BinaryClassificationEvaluator"
   ]
  },
  {
   "cell_type": "code",
   "execution_count": 3,
   "metadata": {},
   "outputs": [
    {
     "name": "stdout",
     "output_type": "stream",
     "text": [
      "10000\n",
      "+-----------+---------+------+---+------+--------+-------------+---------+--------------+---------------+------+\n",
      "|CreditScore|Geography|Gender|Age|Tenure| Balance|NumOfProducts|HasCrCard|IsActiveMember|EstimatedSalary|Exited|\n",
      "+-----------+---------+------+---+------+--------+-------------+---------+--------------+---------------+------+\n",
      "|        619|   France|Female| 42|     2|       0|            1|        1|             1|       10134888|     1|\n",
      "|        608|    Spain|Female| 41|     1| 8380786|            1|        0|             1|       11254258|     0|\n",
      "|        502|   France|Female| 42|     8| 1596608|            3|        1|             0|       11393157|     1|\n",
      "|        699|   France|Female| 39|     1|       0|            2|        0|             0|        9382663|     0|\n",
      "|        850|    Spain|Female| 43|     2|12551082|            1|        1|             1|         790841|     0|\n",
      "+-----------+---------+------+---+------+--------+-------------+---------+--------------+---------------+------+\n",
      "only showing top 5 rows\n",
      "\n"
     ]
    }
   ],
   "source": [
    "churn = spark.read.csv(\"../0_data/Churn.csv\", header=True, inferSchema=True, sep=\";\")\n",
    "print(churn.count())\n",
    "churn.show(5)"
   ]
  },
  {
   "cell_type": "code",
   "execution_count": 4,
   "metadata": {},
   "outputs": [
    {
     "name": "stdout",
     "output_type": "stream",
     "text": [
      "+--------------------------------------------------------------+---------+\n",
      "|independant                                                   |dependant|\n",
      "+--------------------------------------------------------------+---------+\n",
      "|[619.0,1.0,0.0,0.0,42.0,2.0,0.0,1.0,1.0,1.0,1.0134888E7]      |1.0      |\n",
      "|[608.0,0.0,0.0,0.0,41.0,1.0,8380786.0,1.0,0.0,1.0,1.1254258E7]|0.0      |\n",
      "|[502.0,1.0,0.0,0.0,42.0,8.0,1596608.0,3.0,1.0,0.0,1.1393157E7]|1.0      |\n",
      "|(11,[0,1,4,5,7,10],[699.0,1.0,39.0,1.0,2.0,9382663.0])        |0.0      |\n",
      "|[850.0,0.0,0.0,0.0,43.0,2.0,1.2551082E7,1.0,1.0,1.0,790841.0] |0.0      |\n",
      "+--------------------------------------------------------------+---------+\n",
      "only showing top 5 rows\n",
      "\n"
     ]
    }
   ],
   "source": [
    "RFormula = RFormula(formula=\"Exited ~ .\", featuresCol=\"independant\", labelCol=\"dependant\")\n",
    "churn_rf = RFormula.fit(churn).transform(churn)\n",
    "churn_rf.select(\"independant\", \"dependant\").show(5, truncate=False)"
   ]
  },
  {
   "cell_type": "code",
   "execution_count": 5,
   "metadata": {},
   "outputs": [
    {
     "name": "stdout",
     "output_type": "stream",
     "text": [
      "7043 2957\n"
     ]
    }
   ],
   "source": [
    "churn_train, churn_test = churn_rf.randomSplit([0.7, 0.3])\n",
    "print(churn_train.count(), churn_test.count())"
   ]
  },
  {
   "cell_type": "code",
   "execution_count": 6,
   "metadata": {},
   "outputs": [],
   "source": [
    "logistic_reg = LogisticRegression(featuresCol=\"independant\", labelCol=\"dependant\", maxIter=100, regParam=0.08)\n",
    "model = logistic_reg.fit(churn_train)"
   ]
  },
  {
   "cell_type": "code",
   "execution_count": 7,
   "metadata": {},
   "outputs": [
    {
     "name": "stdout",
     "output_type": "stream",
     "text": [
      "accuracy: 0.807042453499929, precision: 0.7888897294296374, recall: 0.807042453499929, auc: 0.7706040563678846\n"
     ]
    }
   ],
   "source": [
    "summary = model.summary\n",
    "accuracy = summary.accuracy\n",
    "precision = summary.weightedPrecision\n",
    "recall = summary.weightedRecall\n",
    "auc = summary.areaUnderROC\n",
    "\n",
    "print(f\"accuracy: {accuracy}, precision: {precision}, recall: {recall}, auc: {auc}\")"
   ]
  },
  {
   "cell_type": "code",
   "execution_count": 8,
   "metadata": {},
   "outputs": [
    {
     "name": "stdout",
     "output_type": "stream",
     "text": [
      "+---------+----------+----------------------------------------+------------------------------------------+\n",
      "|dependant|prediction|probability                             |rawPrediction                             |\n",
      "+---------+----------+----------------------------------------+------------------------------------------+\n",
      "|1.0      |0.0       |[0.821185838761165,0.17881416123883498] |[1.5244023792659682,-1.5244023792659682]  |\n",
      "|1.0      |0.0       |[0.7188975396563372,0.2811024603436628] |[0.9389996131805767,-0.9389996131805767]  |\n",
      "|1.0      |0.0       |[0.739804473122835,0.26019552687716496] |[1.0449525509388642,-1.0449525509388642]  |\n",
      "|1.0      |0.0       |[0.7417414284800791,0.25825857151992093]|[1.0550394050642922,-1.0550394050642922]  |\n",
      "|1.0      |0.0       |[0.6902257113535208,0.30977428864647916]|[0.8011747308591284,-0.8011747308591284]  |\n",
      "|1.0      |0.0       |[0.8858290229491085,0.11417097705089152]|[2.048826832115588,-2.048826832115588]    |\n",
      "|1.0      |0.0       |[0.5842344789957354,0.41576552100426456]|[0.34018095745827326,-0.34018095745827326]|\n",
      "|1.0      |0.0       |[0.5671408667517518,0.4328591332482482] |[0.270195367413228,-0.270195367413228]    |\n",
      "|1.0      |0.0       |[0.8248090423648877,0.17519095763511228]|[1.5492753302440359,-1.5492753302440359]  |\n",
      "|1.0      |0.0       |[0.8824459897879057,0.11755401021209433]|[2.015799696209282,-2.015799696209282]    |\n",
      "+---------+----------+----------------------------------------+------------------------------------------+\n",
      "only showing top 10 rows\n",
      "\n"
     ]
    }
   ],
   "source": [
    "predictions = model.transform(churn_test)\n",
    "predictions.select(\"dependant\", \"prediction\", \"probability\", \"rawPrediction\").show(10, truncate=False)"
   ]
  },
  {
   "cell_type": "code",
   "execution_count": 10,
   "metadata": {},
   "outputs": [
    {
     "name": "stdout",
     "output_type": "stream",
     "text": [
      "auc: 0.7584522296973593\n"
     ]
    }
   ],
   "source": [
    "evaluate = BinaryClassificationEvaluator(rawPredictionCol=\"rawPrediction\", \n",
    "                                         labelCol=\"dependant\",\n",
    "                                         metricName=\"areaUnderROC\")\n",
    "auc = evaluate.evaluate(predictions)\n",
    "print(f\"auc: {auc}\")"
   ]
  }
 ],
 "metadata": {
  "kernelspec": {
   "display_name": "pyspark",
   "language": "python",
   "name": "python3"
  },
  "language_info": {
   "codemirror_mode": {
    "name": "ipython",
    "version": 3
   },
   "file_extension": ".py",
   "mimetype": "text/x-python",
   "name": "python",
   "nbconvert_exporter": "python",
   "pygments_lexer": "ipython3",
   "version": "3.11.8"
  }
 },
 "nbformat": 4,
 "nbformat_minor": 2
}
