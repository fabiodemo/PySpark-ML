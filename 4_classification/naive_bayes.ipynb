{
 "cells": [
  {
   "cell_type": "markdown",
   "metadata": {},
   "source": [
    "# Naive Bayes"
   ]
  },
  {
   "cell_type": "code",
   "execution_count": 4,
   "metadata": {},
   "outputs": [
    {
     "name": "stderr",
     "output_type": "stream",
     "text": [
      "24/04/03 15:29:43 WARN Utils: Your hostname, pop-os resolves to a loopback address: 127.0.1.1; using 192.168.0.108 instead (on interface wlo1)\n",
      "24/04/03 15:29:43 WARN Utils: Set SPARK_LOCAL_IP if you need to bind to another address\n",
      "Setting default log level to \"WARN\".\n",
      "To adjust logging level use sc.setLogLevel(newLevel). For SparkR, use setLogLevel(newLevel).\n",
      "24/04/03 15:29:44 WARN NativeCodeLoader: Unable to load native-hadoop library for your platform... using builtin-java classes where applicable\n"
     ]
    }
   ],
   "source": [
    "import findspark, pyspark\n",
    "from pyspark.sql import SparkSession\n",
    "findspark.init()\n",
    "spark = SparkSession.builder.appName(\"naive\").getOrCreate()"
   ]
  },
  {
   "cell_type": "code",
   "execution_count": 5,
   "metadata": {},
   "outputs": [],
   "source": [
    "from pyspark.ml.feature import RFormula\n",
    "from pyspark.ml.classification import NaiveBayes\n",
    "from pyspark.ml.evaluation import MulticlassClassificationEvaluator"
   ]
  },
  {
   "cell_type": "code",
   "execution_count": 6,
   "metadata": {},
   "outputs": [
    {
     "name": "stdout",
     "output_type": "stream",
     "text": [
      "150\n",
      "+-----------+----------+-----------+----------+-----------+\n",
      "|sepallength|sepalwidth|petallength|petalwidth|      class|\n",
      "+-----------+----------+-----------+----------+-----------+\n",
      "|        5.1|       3.5|        1.4|       0.2|Iris-setosa|\n",
      "|        4.9|       3.0|        1.4|       0.2|Iris-setosa|\n",
      "|        4.7|       3.2|        1.3|       0.2|Iris-setosa|\n",
      "|        4.6|       3.1|        1.5|       0.2|Iris-setosa|\n",
      "|        5.0|       3.6|        1.4|       0.2|Iris-setosa|\n",
      "+-----------+----------+-----------+----------+-----------+\n",
      "only showing top 5 rows\n",
      "\n"
     ]
    }
   ],
   "source": [
    "iris = spark.read.csv(\"../0_data/iris.csv\", header=True, inferSchema=True, sep=\",\")\n",
    "print(iris.count())\n",
    "iris.show(5)"
   ]
  },
  {
   "cell_type": "code",
   "execution_count": 7,
   "metadata": {},
   "outputs": [
    {
     "name": "stdout",
     "output_type": "stream",
     "text": [
      "+-----------------+-----+\n",
      "|         features|label|\n",
      "+-----------------+-----+\n",
      "|[5.1,3.5,1.4,0.2]|  0.0|\n",
      "|[4.9,3.0,1.4,0.2]|  0.0|\n",
      "|[4.7,3.2,1.3,0.2]|  0.0|\n",
      "|[4.6,3.1,1.5,0.2]|  0.0|\n",
      "|[5.0,3.6,1.4,0.2]|  0.0|\n",
      "+-----------------+-----+\n",
      "only showing top 5 rows\n",
      "\n"
     ]
    }
   ],
   "source": [
    "RFormula = RFormula(formula=\"class ~ .\", featuresCol=\"features\", labelCol=\"label\")\n",
    "iris_rf = RFormula.fit(iris).transform(iris)\n",
    "iris_rf.select(\"features\", \"label\").show(5)"
   ]
  },
  {
   "cell_type": "code",
   "execution_count": 8,
   "metadata": {},
   "outputs": [
    {
     "name": "stdout",
     "output_type": "stream",
     "text": [
      "103 47\n"
     ]
    }
   ],
   "source": [
    "iris_train, iris_test = iris_rf.randomSplit([0.7, 0.3])\n",
    "print(iris_train.count(), iris_test.count())"
   ]
  },
  {
   "cell_type": "code",
   "execution_count": 9,
   "metadata": {},
   "outputs": [],
   "source": [
    "naive = NaiveBayes(smoothing=1.0,\n",
    "                   modelType=\"multinomial\",\n",
    "                   featuresCol=\"features\",\n",
    "                   labelCol=\"label\")\n",
    "model = naive.fit(iris_train)"
   ]
  },
  {
   "cell_type": "code",
   "execution_count": 10,
   "metadata": {},
   "outputs": [
    {
     "name": "stdout",
     "output_type": "stream",
     "text": [
      "+-----+----------+------------------------------------------------------------+-------------------------------------------------------------+\n",
      "|label|prediction|probability                                                 |rawPrediction                                                |\n",
      "+-----+----------+------------------------------------------------------------+-------------------------------------------------------------+\n",
      "|0.0  |0.0       |[0.7197107224453221,0.17646910077458292,0.10382017678009492]|[-9.947959820667759,-11.353663382948934,-11.884148844410095] |\n",
      "|0.0  |0.0       |[0.6342753041788916,0.22536296126185226,0.14036173455925618]|[-10.84674529967313,-11.881516129957475,-12.355005485008736] |\n",
      "|0.0  |0.0       |[0.6826816127675961,0.19951567049448424,0.11780271673791956]|[-11.31624041333696,-12.546376222201467,-13.073257671048225] |\n",
      "|0.0  |0.0       |[0.7852199262705716,0.13939639858296798,0.07538367514646048]|[-10.982729089217084,-12.711371265752664,-13.326102187037655]|\n",
      "|0.0  |0.0       |[0.693773357268668,0.19357486688233383,0.11265177584899819] |[-10.88164529860217,-12.158126284638573,-12.699489200171719] |\n",
      "|0.0  |0.0       |[0.6355666670960228,0.22625772547940087,0.13817560742457632]|[-11.600523979143691,-12.63336624145914,-13.126515575459205] |\n",
      "|0.0  |0.0       |[0.6845020613112021,0.19999177083422218,0.11550616785457576]|[-12.061421366686302,-13.291836802949181,-13.84078909294745] |\n",
      "|0.0  |0.0       |[0.6946618049429046,0.19379566209635568,0.11154253296073956]|[-11.254235775276843,-12.530856575012432,-13.083254911121331]|\n",
      "|0.0  |0.0       |[0.6405693356439986,0.22492157403136329,0.13450909032463806]|[-11.768405236971129,-12.81501082323793,-13.329130822005787] |\n",
      "|0.0  |0.0       |[0.7292838894505083,0.1733455135097932,0.09737059703969853] |[-11.217033557600107,-12.653809846230484,-13.230572350286316]|\n",
      "|0.0  |0.0       |[0.7461212346134097,0.16440912717370693,0.08946963821288342]|[-12.03737028541348,-13.549900386130812,-14.158359055418304] |\n",
      "|0.0  |0.0       |[0.7122116335006842,0.18460320593620747,0.10318516056310832]|[-12.083170229211433,-13.433336645666703,-14.015020284804564]|\n",
      "|0.0  |0.0       |[0.7385789116102391,0.16900612245256022,0.09241496593720064]|[-11.999792398181464,-13.474585406554503,-14.078231413801921]|\n",
      "|0.0  |0.0       |[0.7126291388189295,0.18419362178955923,0.10317723939151131]|[-12.359231738452223,-13.712205384964786,-14.291744601445664]|\n",
      "|0.0  |0.0       |[0.6945062957830572,0.19522837685777691,0.11026532735916586]|[-13.12883944262967,-14.397870633325233,-14.969151141655402] |\n",
      "+-----+----------+------------------------------------------------------------+-------------------------------------------------------------+\n",
      "only showing top 15 rows\n",
      "\n"
     ]
    }
   ],
   "source": [
    "predictions = model.transform(iris_test)\n",
    "predictions.select(\"label\", \"prediction\", \"probability\", \"rawPrediction\").show(15, truncate=False)"
   ]
  },
  {
   "cell_type": "code",
   "execution_count": 11,
   "metadata": {},
   "outputs": [
    {
     "name": "stdout",
     "output_type": "stream",
     "text": [
      "accuracy: 0.87\n"
     ]
    }
   ],
   "source": [
    "performance = MulticlassClassificationEvaluator(labelCol=\"label\", predictionCol=\"prediction\", metricName=\"accuracy\")\n",
    "accuracy = performance.evaluate(predictions)\n",
    "print(f\"accuracy: {accuracy:.2f}\")"
   ]
  }
 ],
 "metadata": {
  "kernelspec": {
   "display_name": "pyspark",
   "language": "python",
   "name": "python3"
  },
  "language_info": {
   "codemirror_mode": {
    "name": "ipython",
    "version": 3
   },
   "file_extension": ".py",
   "mimetype": "text/x-python",
   "name": "python",
   "nbconvert_exporter": "python",
   "pygments_lexer": "ipython3",
   "version": "3.11.8"
  }
 },
 "nbformat": 4,
 "nbformat_minor": 2
}
