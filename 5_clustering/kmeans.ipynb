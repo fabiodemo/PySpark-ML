{
 "cells": [
  {
   "cell_type": "markdown",
   "metadata": {},
   "source": [
    "# K Means"
   ]
  },
  {
   "cell_type": "code",
   "execution_count": 1,
   "metadata": {},
   "outputs": [
    {
     "name": "stderr",
     "output_type": "stream",
     "text": [
      "24/04/03 16:36:18 WARN Utils: Your hostname, pop-os resolves to a loopback address: 127.0.1.1; using 192.168.0.108 instead (on interface wlo1)\n",
      "24/04/03 16:36:18 WARN Utils: Set SPARK_LOCAL_IP if you need to bind to another address\n",
      "Setting default log level to \"WARN\".\n",
      "To adjust logging level use sc.setLogLevel(newLevel). For SparkR, use setLogLevel(newLevel).\n",
      "24/04/03 16:36:18 WARN NativeCodeLoader: Unable to load native-hadoop library for your platform... using builtin-java classes where applicable\n"
     ]
    }
   ],
   "source": [
    "import findspark, pyspark\n",
    "from pyspark.sql import SparkSession\n",
    "findspark.init()\n",
    "spark = SparkSession.builder.appName(\"kmeans\").getOrCreate()"
   ]
  },
  {
   "cell_type": "code",
   "execution_count": 2,
   "metadata": {},
   "outputs": [],
   "source": [
    "from pyspark.ml.feature import VectorAssembler, StringIndexer\n",
    "from pyspark.ml.clustering import KMeans\n",
    "from pyspark.sql.functions import col\n",
    "from pyspark.sql.types import IntegerType\n",
    "from sklearn.metrics import confusion_matrix, accuracy_score"
   ]
  },
  {
   "cell_type": "code",
   "execution_count": 3,
   "metadata": {},
   "outputs": [
    {
     "name": "stdout",
     "output_type": "stream",
     "text": [
      "150\n",
      "+-----------+----------+-----------+----------+-----------+\n",
      "|sepallength|sepalwidth|petallength|petalwidth|      class|\n",
      "+-----------+----------+-----------+----------+-----------+\n",
      "|        5.1|       3.5|        1.4|       0.2|Iris-setosa|\n",
      "|        4.9|       3.0|        1.4|       0.2|Iris-setosa|\n",
      "|        4.7|       3.2|        1.3|       0.2|Iris-setosa|\n",
      "|        4.6|       3.1|        1.5|       0.2|Iris-setosa|\n",
      "|        5.0|       3.6|        1.4|       0.2|Iris-setosa|\n",
      "+-----------+----------+-----------+----------+-----------+\n",
      "only showing top 5 rows\n",
      "\n"
     ]
    }
   ],
   "source": [
    "iris = spark.read.csv(\"../0_data/iris.csv\", header=True, inferSchema=True, sep=\",\")\n",
    "print(iris.count())\n",
    "iris.show(5)"
   ]
  },
  {
   "cell_type": "code",
   "execution_count": 4,
   "metadata": {},
   "outputs": [
    {
     "name": "stdout",
     "output_type": "stream",
     "text": [
      "+-----------+----------+-----------+----------+-----------+-----------------+\n",
      "|sepallength|sepalwidth|petallength|petalwidth|      class|         features|\n",
      "+-----------+----------+-----------+----------+-----------+-----------------+\n",
      "|        5.1|       3.5|        1.4|       0.2|Iris-setosa|[5.1,3.5,1.4,0.2]|\n",
      "|        4.9|       3.0|        1.4|       0.2|Iris-setosa|[4.9,3.0,1.4,0.2]|\n",
      "|        4.7|       3.2|        1.3|       0.2|Iris-setosa|[4.7,3.2,1.3,0.2]|\n",
      "|        4.6|       3.1|        1.5|       0.2|Iris-setosa|[4.6,3.1,1.5,0.2]|\n",
      "|        5.0|       3.6|        1.4|       0.2|Iris-setosa|[5.0,3.6,1.4,0.2]|\n",
      "+-----------+----------+-----------+----------+-----------+-----------------+\n",
      "only showing top 5 rows\n",
      "\n"
     ]
    }
   ],
   "source": [
    "vector_assembler = VectorAssembler(inputCols=[\"sepallength\", \"sepalwidth\", \"petallength\", \"petalwidth\"], outputCol=\"features\")\n",
    "iris_assembled = vector_assembler.transform(iris)\n",
    "iris_assembled.show(5)"
   ]
  },
  {
   "cell_type": "code",
   "execution_count": 5,
   "metadata": {},
   "outputs": [
    {
     "name": "stdout",
     "output_type": "stream",
     "text": [
      "+-----------+----------+-----------+----------+-----------+-----------------+---------+\n",
      "|sepallength|sepalwidth|petallength|petalwidth|      class|         features|dependant|\n",
      "+-----------+----------+-----------+----------+-----------+-----------------+---------+\n",
      "|        5.1|       3.5|        1.4|       0.2|Iris-setosa|[5.1,3.5,1.4,0.2]|      0.0|\n",
      "|        4.9|       3.0|        1.4|       0.2|Iris-setosa|[4.9,3.0,1.4,0.2]|      0.0|\n",
      "|        4.7|       3.2|        1.3|       0.2|Iris-setosa|[4.7,3.2,1.3,0.2]|      0.0|\n",
      "|        4.6|       3.1|        1.5|       0.2|Iris-setosa|[4.6,3.1,1.5,0.2]|      0.0|\n",
      "|        5.0|       3.6|        1.4|       0.2|Iris-setosa|[5.0,3.6,1.4,0.2]|      0.0|\n",
      "+-----------+----------+-----------+----------+-----------+-----------------+---------+\n",
      "only showing top 5 rows\n",
      "\n"
     ]
    }
   ],
   "source": [
    "ind = StringIndexer(inputCol=\"class\", outputCol=\"dependant\")\n",
    "iris_assembled = ind.fit(iris_assembled).transform(iris_assembled)\n",
    "iris_assembled.show(5)"
   ]
  },
  {
   "cell_type": "code",
   "execution_count": 6,
   "metadata": {},
   "outputs": [
    {
     "name": "stdout",
     "output_type": "stream",
     "text": [
      "+-----------+----------+-----------+----------+-----------+-----------------+---------+\n",
      "|sepallength|sepalwidth|petallength|petalwidth|      class|         features|dependant|\n",
      "+-----------+----------+-----------+----------+-----------+-----------------+---------+\n",
      "|        5.1|       3.5|        1.4|       0.2|Iris-setosa|[5.1,3.5,1.4,0.2]|        0|\n",
      "|        4.9|       3.0|        1.4|       0.2|Iris-setosa|[4.9,3.0,1.4,0.2]|        0|\n",
      "|        4.7|       3.2|        1.3|       0.2|Iris-setosa|[4.7,3.2,1.3,0.2]|        0|\n",
      "|        4.6|       3.1|        1.5|       0.2|Iris-setosa|[4.6,3.1,1.5,0.2]|        0|\n",
      "|        5.0|       3.6|        1.4|       0.2|Iris-setosa|[5.0,3.6,1.4,0.2]|        0|\n",
      "+-----------+----------+-----------+----------+-----------+-----------------+---------+\n",
      "only showing top 5 rows\n",
      "\n"
     ]
    }
   ],
   "source": [
    "iris_assembled = iris_assembled.withColumn(\"dependant\", col(\"dependant\").cast(IntegerType()))\n",
    "iris_assembled.show(5)"
   ]
  },
  {
   "cell_type": "code",
   "execution_count": 7,
   "metadata": {},
   "outputs": [],
   "source": [
    "km = KMeans(k=3,\n",
    "            maxIter=100,\n",
    "            predictionCol=\"prediction\",\n",
    "            featuresCol=\"features\",\n",
    "            seed=42)\n",
    "model = km.fit(iris_assembled)"
   ]
  },
  {
   "cell_type": "code",
   "execution_count": 8,
   "metadata": {},
   "outputs": [],
   "source": [
    "groups = model.transform(iris_assembled)"
   ]
  },
  {
   "cell_type": "code",
   "execution_count": 9,
   "metadata": {},
   "outputs": [
    {
     "name": "stdout",
     "output_type": "stream",
     "text": [
      "+-----------+----------+-----------+----------+---------------+-----------------+---------+----------+\n",
      "|sepallength|sepalwidth|petallength|petalwidth|          class|         features|dependant|prediction|\n",
      "+-----------+----------+-----------+----------+---------------+-----------------+---------+----------+\n",
      "|        5.1|       3.5|        1.4|       0.2|    Iris-setosa|[5.1,3.5,1.4,0.2]|        0|         0|\n",
      "|        4.9|       3.0|        1.4|       0.2|    Iris-setosa|[4.9,3.0,1.4,0.2]|        0|         0|\n",
      "|        4.7|       3.2|        1.3|       0.2|    Iris-setosa|[4.7,3.2,1.3,0.2]|        0|         0|\n",
      "|        4.6|       3.1|        1.5|       0.2|    Iris-setosa|[4.6,3.1,1.5,0.2]|        0|         0|\n",
      "|        5.0|       3.6|        1.4|       0.2|    Iris-setosa|[5.0,3.6,1.4,0.2]|        0|         0|\n",
      "|        5.4|       3.9|        1.7|       0.4|    Iris-setosa|[5.4,3.9,1.7,0.4]|        0|         0|\n",
      "|        4.6|       3.4|        1.4|       0.3|    Iris-setosa|[4.6,3.4,1.4,0.3]|        0|         0|\n",
      "|        5.0|       3.4|        1.5|       0.2|    Iris-setosa|[5.0,3.4,1.5,0.2]|        0|         0|\n",
      "|        4.4|       2.9|        1.4|       0.2|    Iris-setosa|[4.4,2.9,1.4,0.2]|        0|         0|\n",
      "|        4.9|       3.1|        1.5|       0.1|    Iris-setosa|[4.9,3.1,1.5,0.1]|        0|         0|\n",
      "|        5.4|       3.7|        1.5|       0.2|    Iris-setosa|[5.4,3.7,1.5,0.2]|        0|         0|\n",
      "|        4.8|       3.4|        1.6|       0.2|    Iris-setosa|[4.8,3.4,1.6,0.2]|        0|         0|\n",
      "|        4.8|       3.0|        1.4|       0.1|    Iris-setosa|[4.8,3.0,1.4,0.1]|        0|         0|\n",
      "|        4.3|       3.0|        1.1|       0.1|    Iris-setosa|[4.3,3.0,1.1,0.1]|        0|         0|\n",
      "|        5.8|       4.0|        1.2|       0.2|    Iris-setosa|[5.8,4.0,1.2,0.2]|        0|         0|\n",
      "|        5.7|       4.4|        1.5|       0.4|    Iris-setosa|[5.7,4.4,1.5,0.4]|        0|         0|\n",
      "|        5.4|       3.9|        1.3|       0.4|    Iris-setosa|[5.4,3.9,1.3,0.4]|        0|         0|\n",
      "|        5.1|       3.5|        1.4|       0.3|    Iris-setosa|[5.1,3.5,1.4,0.3]|        0|         0|\n",
      "|        5.7|       3.8|        1.7|       0.3|    Iris-setosa|[5.7,3.8,1.7,0.3]|        0|         0|\n",
      "|        5.1|       3.8|        1.5|       0.3|    Iris-setosa|[5.1,3.8,1.5,0.3]|        0|         0|\n",
      "|        5.4|       3.4|        1.7|       0.2|    Iris-setosa|[5.4,3.4,1.7,0.2]|        0|         0|\n",
      "|        5.1|       3.7|        1.5|       0.4|    Iris-setosa|[5.1,3.7,1.5,0.4]|        0|         0|\n",
      "|        4.6|       3.6|        1.0|       0.2|    Iris-setosa|[4.6,3.6,1.0,0.2]|        0|         0|\n",
      "|        5.1|       3.3|        1.7|       0.5|    Iris-setosa|[5.1,3.3,1.7,0.5]|        0|         0|\n",
      "|        4.8|       3.4|        1.9|       0.2|    Iris-setosa|[4.8,3.4,1.9,0.2]|        0|         0|\n",
      "|        5.0|       3.0|        1.6|       0.2|    Iris-setosa|[5.0,3.0,1.6,0.2]|        0|         0|\n",
      "|        5.0|       3.4|        1.6|       0.4|    Iris-setosa|[5.0,3.4,1.6,0.4]|        0|         0|\n",
      "|        5.2|       3.5|        1.5|       0.2|    Iris-setosa|[5.2,3.5,1.5,0.2]|        0|         0|\n",
      "|        5.2|       3.4|        1.4|       0.2|    Iris-setosa|[5.2,3.4,1.4,0.2]|        0|         0|\n",
      "|        4.7|       3.2|        1.6|       0.2|    Iris-setosa|[4.7,3.2,1.6,0.2]|        0|         0|\n",
      "|        4.8|       3.1|        1.6|       0.2|    Iris-setosa|[4.8,3.1,1.6,0.2]|        0|         0|\n",
      "|        5.4|       3.4|        1.5|       0.4|    Iris-setosa|[5.4,3.4,1.5,0.4]|        0|         0|\n",
      "|        5.2|       4.1|        1.5|       0.1|    Iris-setosa|[5.2,4.1,1.5,0.1]|        0|         0|\n",
      "|        5.5|       4.2|        1.4|       0.2|    Iris-setosa|[5.5,4.2,1.4,0.2]|        0|         0|\n",
      "|        4.9|       3.1|        1.5|       0.1|    Iris-setosa|[4.9,3.1,1.5,0.1]|        0|         0|\n",
      "|        5.0|       3.2|        1.2|       0.2|    Iris-setosa|[5.0,3.2,1.2,0.2]|        0|         0|\n",
      "|        5.5|       3.5|        1.3|       0.2|    Iris-setosa|[5.5,3.5,1.3,0.2]|        0|         0|\n",
      "|        4.9|       3.1|        1.5|       0.1|    Iris-setosa|[4.9,3.1,1.5,0.1]|        0|         0|\n",
      "|        4.4|       3.0|        1.3|       0.2|    Iris-setosa|[4.4,3.0,1.3,0.2]|        0|         0|\n",
      "|        5.1|       3.4|        1.5|       0.2|    Iris-setosa|[5.1,3.4,1.5,0.2]|        0|         0|\n",
      "|        5.0|       3.5|        1.3|       0.3|    Iris-setosa|[5.0,3.5,1.3,0.3]|        0|         0|\n",
      "|        4.5|       2.3|        1.3|       0.3|    Iris-setosa|[4.5,2.3,1.3,0.3]|        0|         0|\n",
      "|        4.4|       3.2|        1.3|       0.2|    Iris-setosa|[4.4,3.2,1.3,0.2]|        0|         0|\n",
      "|        5.0|       3.5|        1.6|       0.6|    Iris-setosa|[5.0,3.5,1.6,0.6]|        0|         0|\n",
      "|        5.1|       3.8|        1.9|       0.4|    Iris-setosa|[5.1,3.8,1.9,0.4]|        0|         0|\n",
      "|        4.8|       3.0|        1.4|       0.3|    Iris-setosa|[4.8,3.0,1.4,0.3]|        0|         0|\n",
      "|        5.1|       3.8|        1.6|       0.2|    Iris-setosa|[5.1,3.8,1.6,0.2]|        0|         0|\n",
      "|        4.6|       3.2|        1.4|       0.2|    Iris-setosa|[4.6,3.2,1.4,0.2]|        0|         0|\n",
      "|        5.3|       3.7|        1.5|       0.2|    Iris-setosa|[5.3,3.7,1.5,0.2]|        0|         0|\n",
      "|        5.0|       3.3|        1.4|       0.2|    Iris-setosa|[5.0,3.3,1.4,0.2]|        0|         0|\n",
      "|        7.0|       3.2|        4.7|       1.4|Iris-versicolor|[7.0,3.2,4.7,1.4]|        1|         1|\n",
      "|        6.4|       3.2|        4.5|       1.5|Iris-versicolor|[6.4,3.2,4.5,1.5]|        1|         2|\n",
      "|        6.9|       3.1|        4.9|       1.5|Iris-versicolor|[6.9,3.1,4.9,1.5]|        1|         1|\n",
      "|        5.5|       2.3|        4.0|       1.3|Iris-versicolor|[5.5,2.3,4.0,1.3]|        1|         2|\n",
      "|        6.5|       2.8|        4.6|       1.5|Iris-versicolor|[6.5,2.8,4.6,1.5]|        1|         2|\n",
      "|        5.7|       2.8|        4.5|       1.3|Iris-versicolor|[5.7,2.8,4.5,1.3]|        1|         2|\n",
      "|        6.3|       3.3|        4.7|       1.6|Iris-versicolor|[6.3,3.3,4.7,1.6]|        1|         2|\n",
      "|        4.9|       2.4|        3.3|       1.0|Iris-versicolor|[4.9,2.4,3.3,1.0]|        1|         2|\n",
      "|        6.6|       2.9|        4.6|       1.3|Iris-versicolor|[6.6,2.9,4.6,1.3]|        1|         2|\n",
      "|        5.2|       2.7|        3.9|       1.4|Iris-versicolor|[5.2,2.7,3.9,1.4]|        1|         2|\n",
      "|        5.0|       2.0|        3.5|       1.0|Iris-versicolor|[5.0,2.0,3.5,1.0]|        1|         2|\n",
      "|        5.9|       3.0|        4.2|       1.5|Iris-versicolor|[5.9,3.0,4.2,1.5]|        1|         2|\n",
      "|        6.0|       2.2|        4.0|       1.0|Iris-versicolor|[6.0,2.2,4.0,1.0]|        1|         2|\n",
      "|        6.1|       2.9|        4.7|       1.4|Iris-versicolor|[6.1,2.9,4.7,1.4]|        1|         2|\n",
      "|        5.6|       2.9|        3.6|       1.3|Iris-versicolor|[5.6,2.9,3.6,1.3]|        1|         2|\n",
      "|        6.7|       3.1|        4.4|       1.4|Iris-versicolor|[6.7,3.1,4.4,1.4]|        1|         2|\n",
      "|        5.6|       3.0|        4.5|       1.5|Iris-versicolor|[5.6,3.0,4.5,1.5]|        1|         2|\n",
      "|        5.8|       2.7|        4.1|       1.0|Iris-versicolor|[5.8,2.7,4.1,1.0]|        1|         2|\n",
      "|        6.2|       2.2|        4.5|       1.5|Iris-versicolor|[6.2,2.2,4.5,1.5]|        1|         2|\n",
      "|        5.6|       2.5|        3.9|       1.1|Iris-versicolor|[5.6,2.5,3.9,1.1]|        1|         2|\n",
      "|        5.9|       3.2|        4.8|       1.8|Iris-versicolor|[5.9,3.2,4.8,1.8]|        1|         2|\n",
      "|        6.1|       2.8|        4.0|       1.3|Iris-versicolor|[6.1,2.8,4.0,1.3]|        1|         2|\n",
      "|        6.3|       2.5|        4.9|       1.5|Iris-versicolor|[6.3,2.5,4.9,1.5]|        1|         2|\n",
      "|        6.1|       2.8|        4.7|       1.2|Iris-versicolor|[6.1,2.8,4.7,1.2]|        1|         2|\n",
      "|        6.4|       2.9|        4.3|       1.3|Iris-versicolor|[6.4,2.9,4.3,1.3]|        1|         2|\n",
      "|        6.6|       3.0|        4.4|       1.4|Iris-versicolor|[6.6,3.0,4.4,1.4]|        1|         2|\n",
      "|        6.8|       2.8|        4.8|       1.4|Iris-versicolor|[6.8,2.8,4.8,1.4]|        1|         2|\n",
      "|        6.7|       3.0|        5.0|       1.7|Iris-versicolor|[6.7,3.0,5.0,1.7]|        1|         1|\n",
      "|        6.0|       2.9|        4.5|       1.5|Iris-versicolor|[6.0,2.9,4.5,1.5]|        1|         2|\n",
      "|        5.7|       2.6|        3.5|       1.0|Iris-versicolor|[5.7,2.6,3.5,1.0]|        1|         2|\n",
      "|        5.5|       2.4|        3.8|       1.1|Iris-versicolor|[5.5,2.4,3.8,1.1]|        1|         2|\n",
      "|        5.5|       2.4|        3.7|       1.0|Iris-versicolor|[5.5,2.4,3.7,1.0]|        1|         2|\n",
      "|        5.8|       2.7|        3.9|       1.2|Iris-versicolor|[5.8,2.7,3.9,1.2]|        1|         2|\n",
      "|        6.0|       2.7|        5.1|       1.6|Iris-versicolor|[6.0,2.7,5.1,1.6]|        1|         2|\n",
      "|        5.4|       3.0|        4.5|       1.5|Iris-versicolor|[5.4,3.0,4.5,1.5]|        1|         2|\n",
      "|        6.0|       3.4|        4.5|       1.6|Iris-versicolor|[6.0,3.4,4.5,1.6]|        1|         2|\n",
      "|        6.7|       3.1|        4.7|       1.5|Iris-versicolor|[6.7,3.1,4.7,1.5]|        1|         2|\n",
      "|        6.3|       2.3|        4.4|       1.3|Iris-versicolor|[6.3,2.3,4.4,1.3]|        1|         2|\n",
      "|        5.6|       3.0|        4.1|       1.3|Iris-versicolor|[5.6,3.0,4.1,1.3]|        1|         2|\n",
      "|        5.5|       2.5|        4.0|       1.3|Iris-versicolor|[5.5,2.5,4.0,1.3]|        1|         2|\n",
      "|        5.5|       2.6|        4.4|       1.2|Iris-versicolor|[5.5,2.6,4.4,1.2]|        1|         2|\n",
      "|        6.1|       3.0|        4.6|       1.4|Iris-versicolor|[6.1,3.0,4.6,1.4]|        1|         2|\n",
      "|        5.8|       2.6|        4.0|       1.2|Iris-versicolor|[5.8,2.6,4.0,1.2]|        1|         2|\n",
      "|        5.0|       2.3|        3.3|       1.0|Iris-versicolor|[5.0,2.3,3.3,1.0]|        1|         2|\n",
      "|        5.6|       2.7|        4.2|       1.3|Iris-versicolor|[5.6,2.7,4.2,1.3]|        1|         2|\n",
      "|        5.7|       3.0|        4.2|       1.2|Iris-versicolor|[5.7,3.0,4.2,1.2]|        1|         2|\n",
      "|        5.7|       2.9|        4.2|       1.3|Iris-versicolor|[5.7,2.9,4.2,1.3]|        1|         2|\n",
      "|        6.2|       2.9|        4.3|       1.3|Iris-versicolor|[6.2,2.9,4.3,1.3]|        1|         2|\n",
      "|        5.1|       2.5|        3.0|       1.1|Iris-versicolor|[5.1,2.5,3.0,1.1]|        1|         2|\n",
      "|        5.7|       2.8|        4.1|       1.3|Iris-versicolor|[5.7,2.8,4.1,1.3]|        1|         2|\n",
      "|        6.3|       3.3|        6.0|       2.5| Iris-virginica|[6.3,3.3,6.0,2.5]|        2|         1|\n",
      "|        5.8|       2.7|        5.1|       1.9| Iris-virginica|[5.8,2.7,5.1,1.9]|        2|         2|\n",
      "|        7.1|       3.0|        5.9|       2.1| Iris-virginica|[7.1,3.0,5.9,2.1]|        2|         1|\n",
      "|        6.3|       2.9|        5.6|       1.8| Iris-virginica|[6.3,2.9,5.6,1.8]|        2|         1|\n",
      "|        6.5|       3.0|        5.8|       2.2| Iris-virginica|[6.5,3.0,5.8,2.2]|        2|         1|\n",
      "|        7.6|       3.0|        6.6|       2.1| Iris-virginica|[7.6,3.0,6.6,2.1]|        2|         1|\n",
      "|        4.9|       2.5|        4.5|       1.7| Iris-virginica|[4.9,2.5,4.5,1.7]|        2|         2|\n",
      "|        7.3|       2.9|        6.3|       1.8| Iris-virginica|[7.3,2.9,6.3,1.8]|        2|         1|\n",
      "|        6.7|       2.5|        5.8|       1.8| Iris-virginica|[6.7,2.5,5.8,1.8]|        2|         1|\n",
      "|        7.2|       3.6|        6.1|       2.5| Iris-virginica|[7.2,3.6,6.1,2.5]|        2|         1|\n",
      "|        6.5|       3.2|        5.1|       2.0| Iris-virginica|[6.5,3.2,5.1,2.0]|        2|         1|\n",
      "|        6.4|       2.7|        5.3|       1.9| Iris-virginica|[6.4,2.7,5.3,1.9]|        2|         1|\n",
      "|        6.8|       3.0|        5.5|       2.1| Iris-virginica|[6.8,3.0,5.5,2.1]|        2|         1|\n",
      "|        5.7|       2.5|        5.0|       2.0| Iris-virginica|[5.7,2.5,5.0,2.0]|        2|         2|\n",
      "|        5.8|       2.8|        5.1|       2.4| Iris-virginica|[5.8,2.8,5.1,2.4]|        2|         2|\n",
      "|        6.4|       3.2|        5.3|       2.3| Iris-virginica|[6.4,3.2,5.3,2.3]|        2|         1|\n",
      "|        6.5|       3.0|        5.5|       1.8| Iris-virginica|[6.5,3.0,5.5,1.8]|        2|         1|\n",
      "|        7.7|       3.8|        6.7|       2.2| Iris-virginica|[7.7,3.8,6.7,2.2]|        2|         1|\n",
      "|        7.7|       2.6|        6.9|       2.3| Iris-virginica|[7.7,2.6,6.9,2.3]|        2|         1|\n",
      "|        6.0|       2.2|        5.0|       1.5| Iris-virginica|[6.0,2.2,5.0,1.5]|        2|         2|\n",
      "|        6.9|       3.2|        5.7|       2.3| Iris-virginica|[6.9,3.2,5.7,2.3]|        2|         1|\n",
      "|        5.6|       2.8|        4.9|       2.0| Iris-virginica|[5.6,2.8,4.9,2.0]|        2|         2|\n",
      "|        7.7|       2.8|        6.7|       2.0| Iris-virginica|[7.7,2.8,6.7,2.0]|        2|         1|\n",
      "|        6.3|       2.7|        4.9|       1.8| Iris-virginica|[6.3,2.7,4.9,1.8]|        2|         2|\n",
      "|        6.7|       3.3|        5.7|       2.1| Iris-virginica|[6.7,3.3,5.7,2.1]|        2|         1|\n",
      "|        7.2|       3.2|        6.0|       1.8| Iris-virginica|[7.2,3.2,6.0,1.8]|        2|         1|\n",
      "|        6.2|       2.8|        4.8|       1.8| Iris-virginica|[6.2,2.8,4.8,1.8]|        2|         2|\n",
      "|        6.1|       3.0|        4.9|       1.8| Iris-virginica|[6.1,3.0,4.9,1.8]|        2|         2|\n",
      "|        6.4|       2.8|        5.6|       2.1| Iris-virginica|[6.4,2.8,5.6,2.1]|        2|         1|\n",
      "|        7.2|       3.0|        5.8|       1.6| Iris-virginica|[7.2,3.0,5.8,1.6]|        2|         1|\n",
      "|        7.4|       2.8|        6.1|       1.9| Iris-virginica|[7.4,2.8,6.1,1.9]|        2|         1|\n",
      "|        7.9|       3.8|        6.4|       2.0| Iris-virginica|[7.9,3.8,6.4,2.0]|        2|         1|\n",
      "|        6.4|       2.8|        5.6|       2.2| Iris-virginica|[6.4,2.8,5.6,2.2]|        2|         1|\n",
      "|        6.3|       2.8|        5.1|       1.5| Iris-virginica|[6.3,2.8,5.1,1.5]|        2|         2|\n",
      "|        6.1|       2.6|        5.6|       1.4| Iris-virginica|[6.1,2.6,5.6,1.4]|        2|         1|\n",
      "|        7.7|       3.0|        6.1|       2.3| Iris-virginica|[7.7,3.0,6.1,2.3]|        2|         1|\n",
      "|        6.3|       3.4|        5.6|       2.4| Iris-virginica|[6.3,3.4,5.6,2.4]|        2|         1|\n",
      "|        6.4|       3.1|        5.5|       1.8| Iris-virginica|[6.4,3.1,5.5,1.8]|        2|         1|\n",
      "|        6.0|       3.0|        4.8|       1.8| Iris-virginica|[6.0,3.0,4.8,1.8]|        2|         2|\n",
      "|        6.9|       3.1|        5.4|       2.1| Iris-virginica|[6.9,3.1,5.4,2.1]|        2|         1|\n",
      "|        6.7|       3.1|        5.6|       2.4| Iris-virginica|[6.7,3.1,5.6,2.4]|        2|         1|\n",
      "|        6.9|       3.1|        5.1|       2.3| Iris-virginica|[6.9,3.1,5.1,2.3]|        2|         1|\n",
      "|        5.8|       2.7|        5.1|       1.9| Iris-virginica|[5.8,2.7,5.1,1.9]|        2|         2|\n",
      "|        6.8|       3.2|        5.9|       2.3| Iris-virginica|[6.8,3.2,5.9,2.3]|        2|         1|\n",
      "|        6.7|       3.3|        5.7|       2.5| Iris-virginica|[6.7,3.3,5.7,2.5]|        2|         1|\n",
      "|        6.7|       3.0|        5.2|       2.3| Iris-virginica|[6.7,3.0,5.2,2.3]|        2|         1|\n",
      "|        6.3|       2.5|        5.0|       1.9| Iris-virginica|[6.3,2.5,5.0,1.9]|        2|         2|\n",
      "|        6.5|       3.0|        5.2|       2.0| Iris-virginica|[6.5,3.0,5.2,2.0]|        2|         1|\n",
      "|        6.2|       3.4|        5.4|       2.3| Iris-virginica|[6.2,3.4,5.4,2.3]|        2|         1|\n",
      "|        5.9|       3.0|        5.1|       1.8| Iris-virginica|[5.9,3.0,5.1,1.8]|        2|         2|\n",
      "+-----------+----------+-----------+----------+---------------+-----------------+---------+----------+\n",
      "\n"
     ]
    }
   ],
   "source": [
    "groups.show(150)"
   ]
  },
  {
   "cell_type": "code",
   "execution_count": 10,
   "metadata": {},
   "outputs": [
    {
     "name": "stdout",
     "output_type": "stream",
     "text": [
      "[[50  0  0]\n",
      " [ 0  3 47]\n",
      " [ 0 36 14]]\n"
     ]
    }
   ],
   "source": [
    "classes = groups.select(\"dependant\").collect()\n",
    "grouped = groups.select(\"prediction\").collect()\n",
    "cm = confusion_matrix(classes, grouped)\n",
    "print(cm)"
   ]
  },
  {
   "cell_type": "code",
   "execution_count": 11,
   "metadata": {},
   "outputs": [
    {
     "name": "stdout",
     "output_type": "stream",
     "text": [
      "accuracy_score: 0.09333333333333334\n"
     ]
    }
   ],
   "source": [
    "accuracy_score = (cm[0, 1] + cm[1, 0] + cm[2, 2] / 150)\n",
    "print(f\"accuracy_score: {accuracy_score}\")"
   ]
  },
  {
   "cell_type": "code",
   "execution_count": null,
   "metadata": {},
   "outputs": [],
   "source": []
  }
 ],
 "metadata": {
  "kernelspec": {
   "display_name": "pyspark",
   "language": "python",
   "name": "python3"
  },
  "language_info": {
   "codemirror_mode": {
    "name": "ipython",
    "version": 3
   },
   "file_extension": ".py",
   "mimetype": "text/x-python",
   "name": "python",
   "nbconvert_exporter": "python",
   "pygments_lexer": "ipython3",
   "version": "3.11.8"
  }
 },
 "nbformat": 4,
 "nbformat_minor": 2
}
